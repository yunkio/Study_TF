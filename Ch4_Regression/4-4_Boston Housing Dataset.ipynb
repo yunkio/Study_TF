{
 "cells": [
  {
   "cell_type": "code",
   "execution_count": 1,
   "id": "5fc8baf2-7f0d-435b-9041-bb3a46342abe",
   "metadata": {},
   "outputs": [],
   "source": [
    "SEED = 126\n",
    "\n",
    "import os\n",
    "import random as rn\n",
    "import numpy as np\n",
    "\n",
    "os.environ['PYTHONHASHSEED']=str(SEED)\n",
    "np.random.seed(SEED)\n",
    "rn.seed(SEED)\n",
    "\n",
    "import tensorflow as tf\n",
    "tf.random.set_seed(SEED)"
   ]
  },
  {
   "cell_type": "markdown",
   "id": "9e38c5f4-f5b4-4fd5-9fba-d1898aecd997",
   "metadata": {},
   "source": [
    "# 보스턴 주택 가격 데이터세트(Boston Housing Dataset)"
   ]
  },
  {
   "cell_type": "code",
   "execution_count": 2,
   "id": "c6f53e14-4019-4722-b90c-3c515f9961c4",
   "metadata": {},
   "outputs": [
    {
     "name": "stdout",
     "output_type": "stream",
     "text": [
      "404 102\n",
      "[  1.23247   0.        8.14      0.        0.538     6.142    91.7\n",
      "   3.9769    4.      307.       21.      396.9      18.72   ]\n",
      "15.2\n"
     ]
    }
   ],
   "source": [
    "from tensorflow.keras.datasets import boston_housing\n",
    "(train_X, train_Y), (test_X, test_Y) = boston_housing.load_data()\n",
    "\n",
    "print(len(train_X), len(test_X))\n",
    "print(train_X[0])\n",
    "print(train_Y[0])"
   ]
  },
  {
   "cell_type": "code",
   "execution_count": 3,
   "id": "ea57bcff-3635-4cc0-9be8-f36654a3656e",
   "metadata": {},
   "outputs": [
    {
     "name": "stdout",
     "output_type": "stream",
     "text": [
      "[-0.27224633 -0.48361547 -0.43576161 -0.25683275 -0.1652266  -0.1764426\n",
      "  0.81306188  0.1166983  -0.62624905 -0.59517003  1.14850044  0.44807713\n",
      "  0.8252202 ]\n",
      "-0.7821526033779157\n"
     ]
    }
   ],
   "source": [
    "x_mean = train_X.mean(axis=0)\n",
    "x_std = train_X.std(axis=0)\n",
    "train_X -= x_mean\n",
    "train_X /= x_std\n",
    "test_X -= x_mean\n",
    "test_X /= x_std\n",
    "\n",
    "y_mean = train_Y.mean(axis=0)\n",
    "y_std = train_Y.std(axis=0)\n",
    "train_Y -= y_mean\n",
    "train_Y /= y_std\n",
    "test_Y -= y_mean\n",
    "test_Y /= y_std\n",
    "\n",
    "print(train_X[0])\n",
    "print(train_Y[0])"
   ]
  },
  {
   "cell_type": "code",
   "execution_count": 4,
   "id": "e53ae75b-eefb-43d9-9140-700b9a15009a",
   "metadata": {},
   "outputs": [
    {
     "name": "stdout",
     "output_type": "stream",
     "text": [
      "Model: \"sequential\"\n",
      "_________________________________________________________________\n",
      "Layer (type)                 Output Shape              Param #   \n",
      "=================================================================\n",
      "dense (Dense)                (None, 52)                728       \n",
      "_________________________________________________________________\n",
      "dense_1 (Dense)              (None, 39)                2067      \n",
      "_________________________________________________________________\n",
      "dense_2 (Dense)              (None, 26)                1040      \n",
      "_________________________________________________________________\n",
      "dense_3 (Dense)              (None, 1)                 27        \n",
      "=================================================================\n",
      "Total params: 3,862\n",
      "Trainable params: 3,862\n",
      "Non-trainable params: 0\n",
      "_________________________________________________________________\n"
     ]
    }
   ],
   "source": [
    "import tensorflow as tf\n",
    "\n",
    "tf.random.set_seed(126)\n",
    "model = tf.keras.Sequential([\n",
    "    tf.keras.layers.Dense(units=52, activation='relu', input_shape=(13,)),\n",
    "    tf.keras.layers.Dense(units=39, activation='relu'),\n",
    "    tf.keras.layers.Dense(units=26, activation='relu'),\n",
    "    tf.keras.layers.Dense(units=1)\n",
    "])\n",
    "\n",
    "model.compile(optimizer=tf.keras.optimizers.Adam(learning_rate=0.07), loss='mse')\n",
    "\n",
    "model.summary()"
   ]
  },
  {
   "cell_type": "code",
   "execution_count": 5,
   "id": "be02986a-21a1-43d4-b526-b224e090492a",
   "metadata": {},
   "outputs": [
    {
     "data": {
      "image/png": "[encoded data removed]",
      "text/plain": [
       "<Figure size 432x288 with 1 Axes>"
      ]
     },
     "metadata": {
      "needs_background": "light"
     },
     "output_type": "display_data"
    }
   ],
   "source": [
    "import matplotlib.pyplot as plt\n",
    "import math\n",
    "import numpy as np\n",
    "\n",
    "def sigmoid(x):\n",
    "    return 1 / (1 + math.exp(-x))\n",
    "\n",
    "x = np.arange(-5, 5, 0.01)\n",
    "sigmoid_x = [sigmoid(z) for z in x]\n",
    "tanh_x = [math.tanh(z) for z in x]\n",
    "relu = [0 if z < 0 else z for z in x]\n",
    "\n",
    "plt.axhline(0, color='gray')\n",
    "plt.axvline(0, color='gray')\n",
    "plt.plot(x, sigmoid_x, 'b-', label='sigmoid')\n",
    "plt.plot(x, tanh_x, 'r--', label='tanh')\n",
    "plt.plot(x, relu, 'g.', label='relu')\n",
    "plt.legend()\n",
    "plt.show()"
   ]
  },
  {
   "cell_type": "code",
   "execution_count": 6,
   "id": "b79379bb-5474-40be-bf3e-ab2e6a55f088",
   "metadata": {},
   "outputs": [
    {
     "name": "stdout",
     "output_type": "stream",
     "text": [
      "Epoch 1/50\n",
      "10/10 [==============================] - 1s 10ms/step - loss: 1.9500 - val_loss: 1.0258\n",
      "Epoch 2/50\n",
      "10/10 [==============================] - 0s 3ms/step - loss: 0.6526 - val_loss: 1.0113\n",
      "Epoch 3/50\n",
      "10/10 [==============================] - 0s 3ms/step - loss: 0.5247 - val_loss: 0.6702\n",
      "Epoch 4/50\n",
      "10/10 [==============================] - 0s 4ms/step - loss: 0.5535 - val_loss: 0.4628\n",
      "Epoch 5/50\n",
      "10/10 [==============================] - 0s 4ms/step - loss: 0.3913 - val_loss: 0.5113\n",
      "Epoch 6/50\n",
      "10/10 [==============================] - 0s 3ms/step - loss: 0.3498 - val_loss: 0.5492\n",
      "Epoch 7/50\n",
      "10/10 [==============================] - 0s 4ms/step - loss: 0.2982 - val_loss: 0.4752\n",
      "Epoch 8/50\n",
      "10/10 [==============================] - 0s 4ms/step - loss: 0.2954 - val_loss: 0.4564\n",
      "Epoch 9/50\n",
      "10/10 [==============================] - 0s 4ms/step - loss: 0.2838 - val_loss: 0.3400\n",
      "Epoch 10/50\n",
      "10/10 [==============================] - 0s 4ms/step - loss: 0.2655 - val_loss: 0.3796\n",
      "Epoch 11/50\n",
      "10/10 [==============================] - 0s 4ms/step - loss: 0.2608 - val_loss: 0.3161\n",
      "Epoch 12/50\n",
      "10/10 [==============================] - 0s 3ms/step - loss: 0.2627 - val_loss: 0.3008\n",
      "Epoch 13/50\n",
      "10/10 [==============================] - 0s 3ms/step - loss: 0.3323 - val_loss: 0.4665\n",
      "Epoch 14/50\n",
      "10/10 [==============================] - 0s 3ms/step - loss: 0.2879 - val_loss: 0.3658\n",
      "Epoch 15/50\n",
      "10/10 [==============================] - 0s 4ms/step - loss: 0.2603 - val_loss: 0.2983\n",
      "Epoch 16/50\n",
      "10/10 [==============================] - 0s 4ms/step - loss: 0.2812 - val_loss: 0.2859\n",
      "Epoch 17/50\n",
      "10/10 [==============================] - 0s 4ms/step - loss: 0.3000 - val_loss: 0.2492\n",
      "Epoch 18/50\n",
      "10/10 [==============================] - 0s 4ms/step - loss: 0.2615 - val_loss: 0.2398\n",
      "Epoch 19/50\n",
      "10/10 [==============================] - 0s 4ms/step - loss: 0.2481 - val_loss: 0.1854\n",
      "Epoch 20/50\n",
      "10/10 [==============================] - 0s 4ms/step - loss: 0.1822 - val_loss: 0.2145\n",
      "Epoch 21/50\n",
      "10/10 [==============================] - 0s 3ms/step - loss: 0.1677 - val_loss: 0.3210\n",
      "Epoch 22/50\n",
      "10/10 [==============================] - 0s 4ms/step - loss: 0.1696 - val_loss: 0.1686\n",
      "Epoch 23/50\n",
      "10/10 [==============================] - 0s 4ms/step - loss: 0.1312 - val_loss: 0.1822\n",
      "Epoch 24/50\n",
      "10/10 [==============================] - 0s 3ms/step - loss: 0.1222 - val_loss: 0.1830\n",
      "Epoch 25/50\n",
      "10/10 [==============================] - 0s 4ms/step - loss: 0.0999 - val_loss: 0.1851\n",
      "Epoch 26/50\n",
      "10/10 [==============================] - 0s 4ms/step - loss: 0.1004 - val_loss: 0.1730\n",
      "Epoch 27/50\n",
      "10/10 [==============================] - 0s 4ms/step - loss: 0.1166 - val_loss: 0.2078\n",
      "Epoch 28/50\n",
      "10/10 [==============================] - 0s 4ms/step - loss: 0.1252 - val_loss: 0.1888\n",
      "Epoch 29/50\n",
      "10/10 [==============================] - 0s 4ms/step - loss: 0.1337 - val_loss: 0.1863\n",
      "Epoch 30/50\n",
      "10/10 [==============================] - 0s 4ms/step - loss: 0.1030 - val_loss: 0.1815\n",
      "Epoch 31/50\n",
      "10/10 [==============================] - 0s 4ms/step - loss: 0.1217 - val_loss: 0.1936\n",
      "Epoch 32/50\n",
      "10/10 [==============================] - 0s 4ms/step - loss: 0.1543 - val_loss: 0.1791\n",
      "Epoch 33/50\n",
      "10/10 [==============================] - 0s 4ms/step - loss: 0.2293 - val_loss: 0.7177\n",
      "Epoch 34/50\n",
      "10/10 [==============================] - 0s 4ms/step - loss: 0.3298 - val_loss: 0.2143\n",
      "Epoch 35/50\n",
      "10/10 [==============================] - 0s 4ms/step - loss: 0.1636 - val_loss: 0.2229\n",
      "Epoch 36/50\n",
      "10/10 [==============================] - 0s 4ms/step - loss: 0.1745 - val_loss: 0.3849\n",
      "Epoch 37/50\n",
      "10/10 [==============================] - 0s 4ms/step - loss: 0.2410 - val_loss: 0.1840\n",
      "Epoch 38/50\n",
      "10/10 [==============================] - 0s 4ms/step - loss: 0.1576 - val_loss: 0.1671\n",
      "Epoch 39/50\n",
      "10/10 [==============================] - 0s 4ms/step - loss: 0.1200 - val_loss: 0.1685\n",
      "Epoch 40/50\n",
      "10/10 [==============================] - 0s 4ms/step - loss: 0.0984 - val_loss: 0.1578\n",
      "Epoch 41/50\n",
      "10/10 [==============================] - 0s 4ms/step - loss: 0.0888 - val_loss: 0.1600\n",
      "Epoch 42/50\n",
      "10/10 [==============================] - 0s 4ms/step - loss: 0.0859 - val_loss: 0.1587\n",
      "Epoch 43/50\n",
      "10/10 [==============================] - 0s 4ms/step - loss: 0.0878 - val_loss: 0.1854\n",
      "Epoch 44/50\n",
      "10/10 [==============================] - 0s 4ms/step - loss: 0.1223 - val_loss: 0.1925\n",
      "Epoch 45/50\n",
      "10/10 [==============================] - 0s 4ms/step - loss: 0.0960 - val_loss: 0.2155\n",
      "Epoch 46/50\n",
      "10/10 [==============================] - 0s 4ms/step - loss: 0.1113 - val_loss: 0.1583\n",
      "Epoch 47/50\n",
      "10/10 [==============================] - 0s 4ms/step - loss: 0.0933 - val_loss: 0.2304\n",
      "Epoch 48/50\n",
      "10/10 [==============================] - 0s 4ms/step - loss: 0.1016 - val_loss: 0.1948\n",
      "Epoch 49/50\n",
      "10/10 [==============================] - 0s 4ms/step - loss: 0.1418 - val_loss: 0.1855\n",
      "Epoch 50/50\n",
      "10/10 [==============================] - 0s 4ms/step - loss: 0.1013 - val_loss: 0.2090\n"
     ]
    }
   ],
   "source": [
    "tf.random.set_seed(126)\n",
    "history = model.fit(train_X, train_Y, epochs=50, batch_size=32, validation_split=0.25)"
   ]
  },
  {
   "cell_type": "code",
   "execution_count": 7,
   "id": "48411359-4a5c-4d75-81af-65418cb317db",
   "metadata": {},
   "outputs": [
    {
     "data": {
      "image/png": "[encoded data removed]",
      "text/plain": [
       "<Figure size 432x288 with 1 Axes>"
      ]
     },
     "metadata": {
      "needs_background": "light"
     },
     "output_type": "display_data"
    }
   ],
   "source": [
    "import matplotlib.pyplot as plt\n",
    "\n",
    "plt.plot(history.history['loss'], 'b-', label='loss')\n",
    "plt.plot(history.history['val_loss'], 'r--', label='val_loss')\n",
    "plt.xlabel('Epoch')\n",
    "plt.legend()\n",
    "plt.show()"
   ]
  },
  {
   "cell_type": "code",
   "execution_count": 8,
   "id": "5d617f9c-b1db-4de3-9305-bf159bf68d34",
   "metadata": {},
   "outputs": [
    {
     "name": "stdout",
     "output_type": "stream",
     "text": [
      "4/4 [==============================] - 0s 1ms/step - loss: 0.2596\n"
     ]
    },
    {
     "data": {
      "text/plain": [
       "0.2595985531806946"
      ]
     },
     "execution_count": 8,
     "metadata": {},
     "output_type": "execute_result"
    }
   ],
   "source": [
    "tf.random.set_seed(126)\n",
    "model.evaluate(test_X, test_Y)"
   ]
  },
  {
   "cell_type": "code",
   "execution_count": 9,
   "id": "ed6c6d9e-54cf-4f7a-963a-9b5f7335c67e",
   "metadata": {},
   "outputs": [
    {
     "data": {
      "image/png": "[encoded data removed]",
      "text/plain": [
       "<Figure size 360x360 with 1 Axes>"
      ]
     },
     "metadata": {
      "needs_background": "light"
     },
     "output_type": "display_data"
    }
   ],
   "source": [
    "tf.random.set_seed(126)\n",
    "\n",
    "import matplotlib.pyplot as plt\n",
    "\n",
    "pred_Y = model.predict(test_X)\n",
    "\n",
    "plt.figure(figsize=(5,5))\n",
    "plt.plot(test_Y, pred_Y, 'b.')\n",
    "plt.axis([min(test_Y), max(test_Y), min(test_Y), max(test_Y)])\n",
    "\n",
    "# y=x에 해당하는 대각선\n",
    "plt.plot([min(test_Y), max(test_Y)], [min(test_Y), max(test_Y)], ls=\"--\", c=\".3\")\n",
    "plt.xlabel('test_Y')\n",
    "plt.ylabel('pred_Y')\n",
    "\n",
    "plt.show()"
   ]
  },
  {
   "cell_type": "code",
   "execution_count": 20,
   "id": "b4de97e9-72cc-4168-b2fe-0c482f372bef",
   "metadata": {},
   "outputs": [
    {
     "name": "stdout",
     "output_type": "stream",
     "text": [
      "Epoch 1/50\n",
      "10/10 [==============================] - 0s 9ms/step - loss: 1.9500 - val_loss: 1.0258\n",
      "Epoch 2/50\n",
      "10/10 [==============================] - 0s 4ms/step - loss: 0.6526 - val_loss: 1.0113\n",
      "Epoch 3/50\n",
      "10/10 [==============================] - 0s 3ms/step - loss: 0.5247 - val_loss: 0.6702\n",
      "Epoch 4/50\n",
      "10/10 [==============================] - 0s 4ms/step - loss: 0.5535 - val_loss: 0.4628\n",
      "Epoch 5/50\n",
      "10/10 [==============================] - 0s 4ms/step - loss: 0.3913 - val_loss: 0.5113\n",
      "Epoch 6/50\n",
      "10/10 [==============================] - 0s 3ms/step - loss: 0.3498 - val_loss: 0.5492\n",
      "Epoch 7/50\n",
      "10/10 [==============================] - 0s 4ms/step - loss: 0.2982 - val_loss: 0.4752\n",
      "Epoch 8/50\n",
      "10/10 [==============================] - 0s 4ms/step - loss: 0.2954 - val_loss: 0.4565\n",
      "Epoch 9/50\n",
      "10/10 [==============================] - 0s 3ms/step - loss: 0.2838 - val_loss: 0.3398\n",
      "Epoch 10/50\n",
      "10/10 [==============================] - 0s 4ms/step - loss: 0.2654 - val_loss: 0.3796\n",
      "Epoch 11/50\n",
      "10/10 [==============================] - 0s 4ms/step - loss: 0.2608 - val_loss: 0.3162\n",
      "Epoch 12/50\n",
      "10/10 [==============================] - 0s 4ms/step - loss: 0.2625 - val_loss: 0.3008\n",
      "Epoch 13/50\n",
      "10/10 [==============================] - 0s 4ms/step - loss: 0.3314 - val_loss: 0.4670\n",
      "Epoch 14/50\n",
      "10/10 [==============================] - 0s 3ms/step - loss: 0.2882 - val_loss: 0.3660\n",
      "Epoch 15/50\n",
      "10/10 [==============================] - 0s 3ms/step - loss: 0.2610 - val_loss: 0.2998\n",
      "Epoch 16/50\n",
      "10/10 [==============================] - 0s 3ms/step - loss: 0.2822 - val_loss: 0.3092\n",
      "Epoch 17/50\n",
      "10/10 [==============================] - 0s 4ms/step - loss: 0.3129 - val_loss: 0.2334\n",
      "Epoch 18/50\n",
      "10/10 [==============================] - 0s 4ms/step - loss: 0.2669 - val_loss: 0.3029\n",
      "Epoch 19/50\n",
      "10/10 [==============================] - 0s 4ms/step - loss: 0.2599 - val_loss: 0.3197\n",
      "Epoch 20/50\n",
      "10/10 [==============================] - 0s 5ms/step - loss: 0.2359 - val_loss: 0.2114\n",
      "Epoch 21/50\n",
      "10/10 [==============================] - 0s 4ms/step - loss: 0.2211 - val_loss: 0.2321\n",
      "Epoch 22/50\n",
      "10/10 [==============================] - 0s 4ms/step - loss: 0.1990 - val_loss: 0.2019\n",
      "Epoch 23/50\n",
      "10/10 [==============================] - 0s 4ms/step - loss: 0.1462 - val_loss: 0.1842\n",
      "Epoch 24/50\n",
      "10/10 [==============================] - 0s 4ms/step - loss: 0.1349 - val_loss: 0.1708\n",
      "Epoch 25/50\n",
      "10/10 [==============================] - 0s 4ms/step - loss: 0.1081 - val_loss: 0.1766\n",
      "Epoch 26/50\n",
      "10/10 [==============================] - 0s 4ms/step - loss: 0.1010 - val_loss: 0.1916\n",
      "Epoch 27/50\n",
      "10/10 [==============================] - 0s 4ms/step - loss: 0.1116 - val_loss: 0.1899\n",
      "Epoch 28/50\n",
      "10/10 [==============================] - 0s 3ms/step - loss: 0.1164 - val_loss: 0.1998\n",
      "Epoch 29/50\n",
      "10/10 [==============================] - 0s 3ms/step - loss: 0.1457 - val_loss: 0.1834\n"
     ]
    }
   ],
   "source": [
    "tf.random.set_seed(126)\n",
    "\n",
    "model = tf.keras.Sequential([\n",
    "    tf.keras.layers.Dense(units=52, activation='relu', input_shape=(13,)),\n",
    "    tf.keras.layers.Dense(units=39, activation='relu'),\n",
    "    tf.keras.layers.Dense(units=26, activation='relu'),\n",
    "    tf.keras.layers.Dense(units=1)\n",
    "])\n",
    "\n",
    "model.compile(optimizer=tf.keras.optimizers.Adam(learning_rate=0.07), loss='mse')\n",
    "\n",
    "history = model.fit(train_X, train_Y, epochs=50, batch_size=32, validation_split=0.25, callbacks=[tf.keras.callbacks.EarlyStopping(patience=5, monitor='val_loss')])"
   ]
  },
  {
   "cell_type": "code",
   "execution_count": 21,
   "id": "929899e4-7607-4cea-8995-b8367606f0ec",
   "metadata": {},
   "outputs": [
    {
     "data": {
      "image/png": "[encoded data removed]",
      "text/plain": [
       "<Figure size 432x288 with 1 Axes>"
      ]
     },
     "metadata": {
      "needs_background": "light"
     },
     "output_type": "display_data"
    }
   ],
   "source": [
    "import matplotlib.pyplot as plt\n",
    "\n",
    "plt.plot(history.history['loss'], 'b-', label='loss')\n",
    "plt.plot(history.history['val_loss'], 'r--', label='val_loss')\n",
    "plt.xlabel('Epoch')\n",
    "plt.legend()\n",
    "plt.show()"
   ]
  },
  {
   "cell_type": "code",
   "execution_count": 25,
   "id": "6ab18f2c-bd29-4677-b7d7-6ab25f72f32b",
   "metadata": {},
   "outputs": [
    {
     "name": "stdout",
     "output_type": "stream",
     "text": [
      "4/4 [==============================] - 0s 1ms/step - loss: 0.4206\n"
     ]
    },
    {
     "data": {
      "text/plain": [
       "0.42063912749290466"
      ]
     },
     "execution_count": 25,
     "metadata": {},
     "output_type": "execute_result"
    }
   ],
   "source": [
    "model.evaluate(test_X, test_Y)"
   ]
  },
  {
   "cell_type": "code",
   "execution_count": 26,
   "id": "4cc8fa83-b608-45a4-b86e-d44b420810c5",
   "metadata": {},
   "outputs": [
    {
     "data": {
      "image/png": "[encoded data removed]",
      "text/plain": [
       "<Figure size 360x360 with 1 Axes>"
      ]
     },
     "metadata": {
      "needs_background": "light"
     },
     "output_type": "display_data"
    }
   ],
   "source": [
    "import matplotlib.pyplot as plt\n",
    "\n",
    "pred_Y = model.predict(test_X)\n",
    "\n",
    "plt.figure(figsize=(5,5))\n",
    "plt.plot(test_Y, pred_Y, 'b.')\n",
    "plt.axis([min(test_Y), max(test_Y), min(test_Y), max(test_Y)])\n",
    "\n",
    "plt.plot([min(test_Y), max(test_Y)], [min(test_Y), max(test_Y)], ls=\"--\", c=\".3\")\n",
    "plt.xlabel('test_Y')\n",
    "plt.ylabel('pred_Y')\n",
    "\n",
    "plt.show()"
   ]
  },
  {
   "cell_type": "code",
   "execution_count": null,
   "id": "d2278418-0a98-4200-bc35-2f9434b14afd",
   "metadata": {},
   "outputs": [],
   "source": []
  }
 ],
 "metadata": {
  "kernelspec": {
   "display_name": "Python 3",
   "language": "python",
   "name": "python3"
  },
  "language_info": {
   "codemirror_mode": {
    "name": "ipython",
    "version": 3
   },
   "file_extension": ".py",
   "mimetype": "text/x-python",
   "name": "python",
   "nbconvert_exporter": "python",
   "pygments_lexer": "ipython3",
   "version": "3.8.8"
  }
 },
 "nbformat": 4,
 "nbformat_minor": 5
}
