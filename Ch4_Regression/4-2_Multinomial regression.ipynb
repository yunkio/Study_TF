{
 "cells": [
  {
   "cell_type": "markdown",
   "id": "0388f121-f6a0-4379-9ce0-9bd3a06155bb",
   "metadata": {},
   "source": [
    "# 다항 회귀"
   ]
  },
  {
   "cell_type": "code",
   "execution_count": 4,
   "id": "58e41dbd-2ab9-4508-93e2-7728698c974f",
   "metadata": {},
   "outputs": [
    {
     "name": "stdout",
     "output_type": "stream",
     "text": [
      "99 a: 4.2996693 b: -6.297481 c: 5.9575715 loss: 74.94936\n",
      "199 a: 3.0530944 b: -4.8570886 c: 9.821734 loss: 35.21347\n",
      "299 a: 1.4663273 b: -2.5190392 c: 12.574173 loss: 17.576946\n",
      "399 a: 0.44507557 b: -1.0124742 c: 14.344 loss: 11.468212\n",
      "499 a: -0.11940058 b: -0.1801447 c: 15.324776 loss: 9.847553\n",
      "599 a: -0.39081585 b: 0.22002411 c: 15.79661 loss: 9.515776\n",
      "699 a: -0.5046818 b: 0.38790342 c: 15.994575 loss: 9.463209\n",
      "799 a: -0.5464271 b: 0.44945085 c: 16.067152 loss: 9.456766\n",
      "899 a: -0.5597867 b: 0.46914777 c: 16.090378 loss: 9.456157\n",
      "999 a: -0.5635116 b: 0.47463968 c: 16.096853 loss: 9.456114\n"
     ]
    },
    {
     "data": {
      "image/png": "[encoded data removed]",
      "text/plain": [
       "<Figure size 432x288 with 1 Axes>"
      ]
     },
     "metadata": {
      "needs_background": "light"
     },
     "output_type": "display_data"
    }
   ],
   "source": [
    "import tensorflow as tf\n",
    "import numpy as np\n",
    "import matplotlib.pyplot as plt\n",
    "import random\n",
    "tf.random.set_seed(126)\n",
    "\n",
    "\n",
    "X = [0.3, -0.78, 1.26, 0.03, 1.11, 0.24, -0.24, -0.47, -0.77, -0.37, -0.85, -0.41, -0.27, 0.02, -0.76, 2.66]\n",
    "Y = [12.27, 14.44, 11.87, 18.75, 17.52, 16.37, 19.78, 19.51, 12.65, 14.74, 10.72, 21.94, 12.83, 15.51, 17.14, 14.42]\n",
    "\n",
    "# a, b, c를 랜덤한 값으로 초기화합니다.\n",
    "a = tf.Variable(random.random())\n",
    "b = tf.Variable(random.random())\n",
    "c = tf.Variable(random.random())\n",
    "\n",
    "# 잔차의 제곱의 평균을 반환하는 함수입니다.\n",
    "def compute_loss():\n",
    "    y_pred = a * X*X + b * X + c\n",
    "    loss = tf.reduce_mean((Y - y_pred) ** 2)\n",
    "    return loss\n",
    "\n",
    "optimizer = tf.keras.optimizers.Adam(learning_rate=0.07)\n",
    "for i in range(1000):\n",
    "    # 잔차의 제곱의 평균을 최소화(minimize)합니다.\n",
    "    optimizer.minimize(compute_loss, var_list=[a,b,c])\n",
    "    \n",
    "    if i % 100 == 99:\n",
    "        print(i, 'a:', a.numpy(), 'b:', b.numpy(), 'c:', c.numpy(), 'loss:', compute_loss().numpy())\n",
    "\n",
    "line_x = np.arange(min(X), max(X), 0.01)\n",
    "line_y = a * line_x * line_x + b * line_x + c\n",
    "\n",
    "# 그래프를 그립니다.\n",
    "plt.plot(line_x,line_y,'r-')\n",
    "plt.plot(X,Y,'bo')\n",
    "plt.xlabel('Population Growth Rate (%)')\n",
    "plt.ylabel('Elderly Population Rate (%)')\n",
    "plt.show()"
   ]
  },
  {
   "cell_type": "code",
   "execution_count": 5,
   "id": "8ebcd1c7-6f0e-4a13-9080-745283d2ef2f",
   "metadata": {},
   "outputs": [
    {
     "name": "stdout",
     "output_type": "stream",
     "text": [
      "99 a: -1.1583056 b: 5.661726 c: -3.4997823 d: 6.5110593 loss: 61.92112\n",
      "199 a: -1.9153429 b: 6.6573954 c: -2.3461106 d: 10.029525 loss: 30.168638\n",
      "299 a: -1.6253709 b: 5.025352 c: -0.9990838 d: 12.148955 loss: 19.833675\n",
      "399 a: -0.91975373 b: 2.7739043 c: -0.579422 d: 13.631649 loss: 14.161332\n",
      "499 a: -0.22719423 b: 0.73928905 c: -0.4714103 d: 14.747077 loss: 10.921365\n",
      "599 a: 0.32200366 b: -0.84846884 c: -0.42991704 d: 15.580522 loss: 9.253502\n",
      "699 a: 0.71815836 b: -1.9904491 c: -0.40558273 d: 16.174746 loss: 8.487072\n",
      "799 a: 0.9854189 b: -2.7604465 c: -0.38985723 d: 16.574657 loss: 8.172149\n",
      "899 a: 1.1550666 b: -3.2491457 c: -0.37998247 d: 16.828339 loss: 8.05639\n",
      "999 a: 1.2565118 b: -3.5413637 c: -0.37409508 d: 16.980003 loss: 8.018354\n"
     ]
    },
    {
     "data": {
      "image/png": "[encoded data removed]",
      "text/plain": [
       "<Figure size 432x288 with 1 Axes>"
      ]
     },
     "metadata": {
      "needs_background": "light"
     },
     "output_type": "display_data"
    }
   ],
   "source": [
    "import tensorflow as tf\n",
    "import numpy as np\n",
    "import matplotlib.pyplot as plt\n",
    "import random\n",
    "tf.random.set_seed(126)\n",
    "\n",
    "X = [0.3, -0.78, 1.26, 0.03, 1.11, 0.24, -0.24, -0.47, -0.77, -0.37, -0.85, -0.41, -0.27, 0.02, -0.76, 2.66]\n",
    "Y = [12.27, 14.44, 11.87, 18.75, 17.52, 16.37, 19.78, 19.51, 12.65, 14.74, 10.72, 21.94, 12.83, 15.51, 17.14, 14.42]\n",
    "\n",
    "# a, b, c, d를 랜덤한 값으로 초기화합니다.\n",
    "a = tf.Variable(random.random())\n",
    "b = tf.Variable(random.random())\n",
    "c = tf.Variable(random.random())\n",
    "d = tf.Variable(random.random())\n",
    "\n",
    "# 잔차의 제곱의 평균을 반환하는 함수입니다.\n",
    "def compute_loss():\n",
    "    y_pred = a * X*X*X + b * X*X + c * X + d\n",
    "    loss = tf.reduce_mean((Y - y_pred) ** 2)\n",
    "    return loss\n",
    "\n",
    "optimizer = tf.keras.optimizers.Adam(learning_rate=0.07)\n",
    "for i in range(1000):\n",
    "    # 잔차의 제곱의 평균을 최소화(minimize)합니다.\n",
    "    optimizer.minimize(compute_loss, var_list=[a,b,c,d])\n",
    "    \n",
    "    if i % 100 == 99:\n",
    "        print(i, 'a:', a.numpy(), 'b:', b.numpy(), 'c:', c.numpy(), 'd:', d.numpy(), 'loss:', compute_loss().numpy())\n",
    "\n",
    "line_x = np.arange(min(X), max(X), 0.01)\n",
    "line_y = a * line_x * line_x * line_x + b * line_x * line_x + c * line_x + d\n",
    "\n",
    "# 그래프를 그립니다.\n",
    "plt.plot(line_x,line_y,'r-')\n",
    "plt.plot(X,Y,'bo')\n",
    "plt.xlabel('Population Growth Rate (%)')\n",
    "plt.ylabel('Elderly Population Rate (%)')\n",
    "plt.show()"
   ]
  },
  {
   "cell_type": "code",
   "execution_count": null,
   "id": "1b72824a-e128-4897-a507-3bc3f9cac2f6",
   "metadata": {},
   "outputs": [],
   "source": []
  }
 ],
 "metadata": {
  "kernelspec": {
   "display_name": "Python 3",
   "language": "python",
   "name": "python3"
  },
  "language_info": {
   "codemirror_mode": {
    "name": "ipython",
    "version": 3
   },
   "file_extension": ".py",
   "mimetype": "text/x-python",
   "name": "python",
   "nbconvert_exporter": "python",
   "pygments_lexer": "ipython3",
   "version": "3.8.8"
  }
 },
 "nbformat": 4,
 "nbformat_minor": 5
}
