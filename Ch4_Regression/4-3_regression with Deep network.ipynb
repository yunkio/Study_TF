{
 "cells": [
  {
   "cell_type": "markdown",
   "id": "9f640e15-29c7-45c7-904b-16f1660ad056",
   "metadata": {},
   "source": [
    "# 딥러닝 네트워크를 이용한 회귀 "
   ]
  },
  {
   "cell_type": "code",
   "execution_count": 7,
   "id": "23671267-334b-4d7b-9835-5361182c7657",
   "metadata": {},
   "outputs": [
    {
     "name": "stdout",
     "output_type": "stream",
     "text": [
      "Model: \"sequential_2\"\n",
      "_________________________________________________________________\n",
      "Layer (type)                 Output Shape              Param #   \n",
      "=================================================================\n",
      "dense_4 (Dense)              (None, 6)                 12        \n",
      "_________________________________________________________________\n",
      "dense_5 (Dense)              (None, 1)                 7         \n",
      "=================================================================\n",
      "Total params: 19\n",
      "Trainable params: 19\n",
      "Non-trainable params: 0\n",
      "_________________________________________________________________\n"
     ]
    }
   ],
   "source": [
    "import tensorflow as tf\n",
    "import numpy as np\n",
    "tf.random.set_seed(126)\n",
    "\n",
    "X = [0.3, -0.78, 1.26, 0.03, 1.11, 0.24, -0.24, -0.47, -0.77, -0.37, -0.85, -0.41, -0.27, 0.02, -0.76, 2.66]\n",
    "Y = [12.27, 14.44, 11.87, 18.75, 17.52, 16.37, 19.78, 19.51, 12.65, 14.74, 10.72, 21.94, 12.83, 15.51, 17.14, 14.42]\n",
    "\n",
    "model = tf.keras.Sequential([\n",
    "    tf.keras.layers.Dense(units=6, activation='tanh', input_shape=(1,)),\n",
    "    tf.keras.layers.Dense(units=1)\n",
    "])\n",
    "\n",
    "model.compile(optimizer=tf.keras.optimizers.SGD(learning_rate=0.1), loss='mse')\n",
    "\n",
    "model.summary()"
   ]
  },
  {
   "cell_type": "code",
   "execution_count": 8,
   "id": "e7c7ad27-a76a-4805-aab7-f23252b761bb",
   "metadata": {},
   "outputs": [
    {
     "name": "stdout",
     "output_type": "stream",
     "text": [
      "Epoch 1/10\n",
      "1/1 [==============================] - 0s 125ms/step - loss: 257.0500\n",
      "Epoch 2/10\n",
      "1/1 [==============================] - 0s 3ms/step - loss: 100.7648\n",
      "Epoch 3/10\n",
      "1/1 [==============================] - 0s 4ms/step - loss: 13.4928\n",
      "Epoch 4/10\n",
      "1/1 [==============================] - 0s 3ms/step - loss: 10.2934\n",
      "Epoch 5/10\n",
      "1/1 [==============================] - 0s 2ms/step - loss: 9.8708\n",
      "Epoch 6/10\n",
      "1/1 [==============================] - 0s 2ms/step - loss: 9.7876\n",
      "Epoch 7/10\n",
      "1/1 [==============================] - 0s 3ms/step - loss: 9.7376\n",
      "Epoch 8/10\n",
      "1/1 [==============================] - 0s 4ms/step - loss: 9.6930\n",
      "Epoch 9/10\n",
      "1/1 [==============================] - 0s 5ms/step - loss: 9.6546\n",
      "Epoch 10/10\n",
      "1/1 [==============================] - 0s 4ms/step - loss: 9.6244\n"
     ]
    },
    {
     "data": {
      "text/plain": [
       "<keras.callbacks.History at 0x18352527a30>"
      ]
     },
     "execution_count": 8,
     "metadata": {},
     "output_type": "execute_result"
    }
   ],
   "source": [
    "tf.random.set_seed(126)\n",
    "model.fit(X, Y, epochs=10)"
   ]
  },
  {
   "cell_type": "code",
   "execution_count": 3,
   "id": "e225e364-f302-497f-b917-307d5f12281a",
   "metadata": {},
   "outputs": [
    {
     "data": {
      "text/plain": [
       "array([[15.686909 ],\n",
       "       [15.778545 ],\n",
       "       [15.400834 ],\n",
       "       [15.740183 ],\n",
       "       [15.455323 ],\n",
       "       [15.700078 ],\n",
       "       [15.775257 ],\n",
       "       [15.787913 ],\n",
       "       [15.779294 ],\n",
       "       [15.784465 ],\n",
       "       [15.772322 ],\n",
       "       [15.786219 ],\n",
       "       [15.777848 ],\n",
       "       [15.741835 ],\n",
       "       [15.780049 ],\n",
       "       [14.5131645]], dtype=float32)"
      ]
     },
     "execution_count": 3,
     "metadata": {},
     "output_type": "execute_result"
    }
   ],
   "source": [
    "model.predict(X)"
   ]
  },
  {
   "cell_type": "code",
   "execution_count": 4,
   "id": "a45bdff4-5ad2-4ba6-8c3f-a5766f4771d5",
   "metadata": {},
   "outputs": [
    {
     "data": {
      "image/png": "[encoded data removed]",
      "text/plain": [
       "<Figure size 432x288 with 1 Axes>"
      ]
     },
     "metadata": {
      "needs_background": "light"
     },
     "output_type": "display_data"
    }
   ],
   "source": [
    "import matplotlib.pyplot as plt\n",
    "\n",
    "line_x = np.arange(min(X), max(X), 0.01)\n",
    "line_y = model.predict(line_x)\n",
    "\n",
    "plt.plot(line_x,line_y,'r-')\n",
    "plt.plot(X,Y,'bo')\n",
    "plt.xlabel('Population Growth Rate (%)')\n",
    "plt.ylabel('Elderly Population Rate (%)')\n",
    "plt.show()"
   ]
  },
  {
   "cell_type": "code",
   "execution_count": 5,
   "id": "81089449-8b9c-41f4-bb2d-02cfefa3c9d2",
   "metadata": {},
   "outputs": [
    {
     "data": {
      "image/png": "[encoded data removed]",
      "text/plain": [
       "<Figure size 432x288 with 1 Axes>"
      ]
     },
     "metadata": {
      "needs_background": "light"
     },
     "output_type": "display_data"
    }
   ],
   "source": [
    "import math\n",
    "def sigmoid(x):\n",
    "    return 1 / (1 + math.exp(-x))\n",
    "\n",
    "x = np.arange(-5, 5, 0.01)\n",
    "sigmoid_x = [sigmoid(z) for z in x]\n",
    "tanh_x = [math.tanh(z) for z in x]\n",
    "\n",
    "plt.axhline(0, color='gray')\n",
    "plt.axvline(0, color='gray')\n",
    "plt.plot(x, sigmoid_x, 'b-', label='sigmoid')\n",
    "plt.plot(x, tanh_x, 'r--', label='tanh')\n",
    "plt.legend()\n",
    "plt.show()"
   ]
  }
 ],
 "metadata": {
  "kernelspec": {
   "display_name": "Python 3",
   "language": "python",
   "name": "python3"
  },
  "language_info": {
   "codemirror_mode": {
    "name": "ipython",
    "version": 3
   },
   "file_extension": ".py",
   "mimetype": "text/x-python",
   "name": "python",
   "nbconvert_exporter": "python",
   "pygments_lexer": "ipython3",
   "version": "3.8.8"
  }
 },
 "nbformat": 4,
 "nbformat_minor": 5
}
