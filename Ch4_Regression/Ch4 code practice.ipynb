{
 "cells": [
  {
   "cell_type": "code",
   "execution_count": 2,
   "id": "4f5e6372-693a-4a11-b697-cdf55e23642c",
   "metadata": {},
   "outputs": [],
   "source": [
    "import tensorflow as tf\n",
    "import pandas as pd\n",
    "import numpy as np"
   ]
  },
  {
   "cell_type": "code",
   "execution_count": 3,
   "id": "1aa4d5b5-a2df-4e2b-bdab-56a5367ccb94",
   "metadata": {},
   "outputs": [],
   "source": [
    "dataset = pd.read_csv('data/data.csv')"
   ]
  },
  {
   "cell_type": "code",
   "execution_count": 4,
   "id": "3100b5b7-fde8-4a28-bd35-9bce45ffa0e1",
   "metadata": {},
   "outputs": [],
   "source": [
    "train_dataset = dataset.sample(frac=0.8,random_state=0)\n",
    "test_dataset = dataset.drop(train_dataset.index)"
   ]
  },
  {
   "cell_type": "code",
   "execution_count": 5,
   "id": "f66d4248-427e-4065-9d07-6e584537f3ce",
   "metadata": {},
   "outputs": [],
   "source": [
    "label = 'HT_0.0F'"
   ]
  },
  {
   "cell_type": "code",
   "execution_count": 6,
   "id": "58951a5f-5469-4d26-a459-8955dbe34354",
   "metadata": {},
   "outputs": [
    {
     "data": {
      "text/html": [
       "<div>\n",
       "<style scoped>\n",
       "    .dataframe tbody tr th:only-of-type {\n",
       "        vertical-align: middle;\n",
       "    }\n",
       "\n",
       "    .dataframe tbody tr th {\n",
       "        vertical-align: top;\n",
       "    }\n",
       "\n",
       "    .dataframe thead th {\n",
       "        text-align: right;\n",
       "    }\n",
       "</style>\n",
       "<table border=\"1\" class=\"dataframe\">\n",
       "  <thead>\n",
       "    <tr style=\"text-align: right;\">\n",
       "      <th></th>\n",
       "      <th>count</th>\n",
       "      <th>mean</th>\n",
       "      <th>std</th>\n",
       "      <th>min</th>\n",
       "      <th>25%</th>\n",
       "      <th>50%</th>\n",
       "      <th>75%</th>\n",
       "      <th>max</th>\n",
       "    </tr>\n",
       "  </thead>\n",
       "  <tbody>\n",
       "    <tr>\n",
       "      <th>Barrel</th>\n",
       "      <td>6074.0</td>\n",
       "      <td>1.725387</td>\n",
       "      <td>0.901172</td>\n",
       "      <td>1.000</td>\n",
       "      <td>1.00000</td>\n",
       "      <td>1.000</td>\n",
       "      <td>3.00000</td>\n",
       "      <td>3.000</td>\n",
       "    </tr>\n",
       "    <tr>\n",
       "      <th>Temp</th>\n",
       "      <td>6074.0</td>\n",
       "      <td>99.603227</td>\n",
       "      <td>9.605197</td>\n",
       "      <td>65.000</td>\n",
       "      <td>85.00000</td>\n",
       "      <td>105.000</td>\n",
       "      <td>105.00000</td>\n",
       "      <td>105.000</td>\n",
       "    </tr>\n",
       "    <tr>\n",
       "      <th>RT_-1.8F</th>\n",
       "      <td>6074.0</td>\n",
       "      <td>0.594332</td>\n",
       "      <td>0.170236</td>\n",
       "      <td>0.027</td>\n",
       "      <td>0.48625</td>\n",
       "      <td>0.640</td>\n",
       "      <td>0.73500</td>\n",
       "      <td>0.836</td>\n",
       "    </tr>\n",
       "    <tr>\n",
       "      <th>RT_-0.9F</th>\n",
       "      <td>6074.0</td>\n",
       "      <td>0.636908</td>\n",
       "      <td>0.184060</td>\n",
       "      <td>0.020</td>\n",
       "      <td>0.51800</td>\n",
       "      <td>0.693</td>\n",
       "      <td>0.79000</td>\n",
       "      <td>0.861</td>\n",
       "    </tr>\n",
       "    <tr>\n",
       "      <th>RT_0.0F</th>\n",
       "      <td>6074.0</td>\n",
       "      <td>0.682392</td>\n",
       "      <td>0.130658</td>\n",
       "      <td>0.271</td>\n",
       "      <td>0.57200</td>\n",
       "      <td>0.698</td>\n",
       "      <td>0.80400</td>\n",
       "      <td>0.863</td>\n",
       "    </tr>\n",
       "    <tr>\n",
       "      <th>RT_0.9F</th>\n",
       "      <td>6074.0</td>\n",
       "      <td>0.635368</td>\n",
       "      <td>0.182515</td>\n",
       "      <td>0.025</td>\n",
       "      <td>0.52000</td>\n",
       "      <td>0.688</td>\n",
       "      <td>0.78900</td>\n",
       "      <td>0.863</td>\n",
       "    </tr>\n",
       "    <tr>\n",
       "      <th>RT_1.8F</th>\n",
       "      <td>6074.0</td>\n",
       "      <td>0.591844</td>\n",
       "      <td>0.173381</td>\n",
       "      <td>0.016</td>\n",
       "      <td>0.48400</td>\n",
       "      <td>0.638</td>\n",
       "      <td>0.73575</td>\n",
       "      <td>0.836</td>\n",
       "    </tr>\n",
       "  </tbody>\n",
       "</table>\n",
       "</div>"
      ],
      "text/plain": [
       "           count       mean       std     min       25%      50%        75%  \\\n",
       "Barrel    6074.0   1.725387  0.901172   1.000   1.00000    1.000    3.00000   \n",
       "Temp      6074.0  99.603227  9.605197  65.000  85.00000  105.000  105.00000   \n",
       "RT_-1.8F  6074.0   0.594332  0.170236   0.027   0.48625    0.640    0.73500   \n",
       "RT_-0.9F  6074.0   0.636908  0.184060   0.020   0.51800    0.693    0.79000   \n",
       "RT_0.0F   6074.0   0.682392  0.130658   0.271   0.57200    0.698    0.80400   \n",
       "RT_0.9F   6074.0   0.635368  0.182515   0.025   0.52000    0.688    0.78900   \n",
       "RT_1.8F   6074.0   0.591844  0.173381   0.016   0.48400    0.638    0.73575   \n",
       "\n",
       "              max  \n",
       "Barrel      3.000  \n",
       "Temp      105.000  \n",
       "RT_-1.8F    0.836  \n",
       "RT_-0.9F    0.861  \n",
       "RT_0.0F     0.863  \n",
       "RT_0.9F     0.863  \n",
       "RT_1.8F     0.836  "
      ]
     },
     "execution_count": 6,
     "metadata": {},
     "output_type": "execute_result"
    }
   ],
   "source": [
    "train_stats = train_dataset.describe()\n",
    "train_stats.pop(label)\n",
    "train_stats = train_stats.transpose()\n",
    "train_stats"
   ]
  },
  {
   "cell_type": "code",
   "execution_count": 7,
   "id": "87ddf035-6f2c-4f7d-8a60-3d84d8577d41",
   "metadata": {},
   "outputs": [],
   "source": [
    "train_Y = train_dataset.pop(label)\n",
    "test_Y = test_dataset.pop(label)"
   ]
  },
  {
   "cell_type": "code",
   "execution_count": 8,
   "id": "61bd8da6-9cc8-4a0d-8742-c3e383931c3f",
   "metadata": {},
   "outputs": [],
   "source": [
    "def norm(x):\n",
    "    return (x - train_stats['mean']) / train_stats['std']\n",
    "train_X = norm(train_dataset)\n",
    "test_X = norm(test_dataset)"
   ]
  },
  {
   "cell_type": "code",
   "execution_count": 9,
   "id": "1cb02e8b-0943-40f4-aae3-b9ac069e2686",
   "metadata": {},
   "outputs": [],
   "source": [
    "with tf.device(\"/gpu:0\"):\n",
    "    train_X2 = tf.convert_to_tensor(train_X, dtype=tf.float32)\n",
    "    train_Y2 = tf.convert_to_tensor(train_X, dtype=tf.float32)"
   ]
  },
  {
   "cell_type": "code",
   "execution_count": 10,
   "id": "aef5cca4-9ced-4f8b-9a5b-1b3510294ff6",
   "metadata": {},
   "outputs": [
    {
     "name": "stdout",
     "output_type": "stream",
     "text": [
      "Model: \"sequential\"\n",
      "_________________________________________________________________\n",
      "Layer (type)                 Output Shape              Param #   \n",
      "=================================================================\n",
      "dense (Dense)                (None, 20)                260       \n",
      "_________________________________________________________________\n",
      "dense_1 (Dense)              (None, 20)                420       \n",
      "_________________________________________________________________\n",
      "dense_2 (Dense)              (None, 10)                210       \n",
      "_________________________________________________________________\n",
      "dense_3 (Dense)              (None, 2)                 22        \n",
      "=================================================================\n",
      "Total params: 912\n",
      "Trainable params: 912\n",
      "Non-trainable params: 0\n",
      "_________________________________________________________________\n"
     ]
    }
   ],
   "source": [
    "model = tf.keras.Sequential([\n",
    "    tf.keras.layers.Dense(units=10, activation='relu', input_shape=(7,)),\n",
    "    tf.keras.layers.Dense(units=15, activation='relu'),\n",
    "    tf.keras.layers.Dense(units=10, activation='relu'),\n",
    "    tf.keras.layers.Dense(units=1)\n",
    "])\n",
    "\n",
    "model.compile(optimizer=tf.keras.optimizers.Adam(learning_rate=0.005), loss='mse')\n",
    "\n",
    "model.summary()"
   ]
  },
  {
   "cell_type": "code",
   "execution_count": 10,
   "id": "3d07cb26-602f-473b-8e71-df48cadffe51",
   "metadata": {},
   "outputs": [
    {
     "name": "stdout",
     "output_type": "stream",
     "text": [
      "Epoch 1/1000\n",
      "143/143 [==============================] - 1s 3ms/step - loss: 0.0597 - val_loss: 0.0104\n",
      "Epoch 2/1000\n",
      "143/143 [==============================] - 0s 2ms/step - loss: 0.0093 - val_loss: 0.0090\n",
      "Epoch 3/1000\n",
      "143/143 [==============================] - 0s 2ms/step - loss: 0.0079 - val_loss: 0.0077\n",
      "Epoch 4/1000\n",
      "143/143 [==============================] - 0s 2ms/step - loss: 0.0072 - val_loss: 0.0073\n",
      "Epoch 5/1000\n",
      "143/143 [==============================] - 0s 2ms/step - loss: 0.0067 - val_loss: 0.0069\n",
      "Epoch 6/1000\n",
      "143/143 [==============================] - 0s 2ms/step - loss: 0.0066 - val_loss: 0.0073\n",
      "Epoch 7/1000\n",
      "143/143 [==============================] - 0s 2ms/step - loss: 0.0064 - val_loss: 0.0069\n",
      "Epoch 8/1000\n",
      "143/143 [==============================] - 0s 2ms/step - loss: 0.0062 - val_loss: 0.0067\n",
      "Epoch 9/1000\n",
      "143/143 [==============================] - 0s 2ms/step - loss: 0.0060 - val_loss: 0.0067\n",
      "Epoch 10/1000\n",
      "143/143 [==============================] - 0s 2ms/step - loss: 0.0060 - val_loss: 0.0067\n",
      "Epoch 11/1000\n",
      "143/143 [==============================] - 0s 2ms/step - loss: 0.0060 - val_loss: 0.0064\n",
      "Epoch 12/1000\n",
      "143/143 [==============================] - 0s 2ms/step - loss: 0.0060 - val_loss: 0.0064\n",
      "Epoch 13/1000\n",
      "143/143 [==============================] - 0s 2ms/step - loss: 0.0058 - val_loss: 0.0062\n",
      "Epoch 14/1000\n",
      "143/143 [==============================] - 0s 2ms/step - loss: 0.0058 - val_loss: 0.0061\n",
      "Epoch 15/1000\n",
      "143/143 [==============================] - 0s 2ms/step - loss: 0.0058 - val_loss: 0.0063\n",
      "Epoch 16/1000\n",
      "143/143 [==============================] - 0s 2ms/step - loss: 0.0058 - val_loss: 0.0063\n",
      "Epoch 17/1000\n",
      "143/143 [==============================] - 0s 2ms/step - loss: 0.0059 - val_loss: 0.0063\n",
      "Epoch 18/1000\n",
      "143/143 [==============================] - 0s 2ms/step - loss: 0.0057 - val_loss: 0.0061\n",
      "Epoch 19/1000\n",
      "143/143 [==============================] - 0s 2ms/step - loss: 0.0056 - val_loss: 0.0063\n",
      "Epoch 20/1000\n",
      "143/143 [==============================] - 0s 2ms/step - loss: 0.0057 - val_loss: 0.0060\n",
      "Epoch 21/1000\n",
      "143/143 [==============================] - 0s 2ms/step - loss: 0.0053 - val_loss: 0.0060\n",
      "Epoch 22/1000\n",
      "143/143 [==============================] - 0s 2ms/step - loss: 0.0054 - val_loss: 0.0064\n",
      "Epoch 23/1000\n",
      "143/143 [==============================] - 0s 2ms/step - loss: 0.0056 - val_loss: 0.0062\n",
      "Epoch 24/1000\n",
      "143/143 [==============================] - 0s 2ms/step - loss: 0.0054 - val_loss: 0.0060\n",
      "Epoch 25/1000\n",
      "143/143 [==============================] - 0s 2ms/step - loss: 0.0054 - val_loss: 0.0058\n",
      "Epoch 26/1000\n",
      "143/143 [==============================] - 0s 2ms/step - loss: 0.0052 - val_loss: 0.0059\n",
      "Epoch 27/1000\n",
      "143/143 [==============================] - 0s 2ms/step - loss: 0.0053 - val_loss: 0.0062\n",
      "Epoch 28/1000\n",
      "143/143 [==============================] - 0s 2ms/step - loss: 0.0052 - val_loss: 0.0058\n",
      "Epoch 29/1000\n",
      "143/143 [==============================] - 0s 2ms/step - loss: 0.0055 - val_loss: 0.0060\n",
      "Epoch 30/1000\n",
      "143/143 [==============================] - 0s 2ms/step - loss: 0.0053 - val_loss: 0.0056\n",
      "Epoch 31/1000\n",
      "143/143 [==============================] - 0s 2ms/step - loss: 0.0053 - val_loss: 0.0059\n",
      "Epoch 32/1000\n",
      "143/143 [==============================] - 0s 2ms/step - loss: 0.0051 - val_loss: 0.0056\n",
      "Epoch 33/1000\n",
      "143/143 [==============================] - 0s 2ms/step - loss: 0.0051 - val_loss: 0.0058\n",
      "Epoch 34/1000\n",
      "143/143 [==============================] - 0s 2ms/step - loss: 0.0052 - val_loss: 0.0059\n",
      "Epoch 35/1000\n",
      "143/143 [==============================] - 0s 2ms/step - loss: 0.0052 - val_loss: 0.0058\n",
      "Epoch 36/1000\n",
      "143/143 [==============================] - 0s 2ms/step - loss: 0.0052 - val_loss: 0.0058\n",
      "Epoch 37/1000\n",
      "143/143 [==============================] - 0s 2ms/step - loss: 0.0052 - val_loss: 0.0061\n",
      "Epoch 38/1000\n",
      "143/143 [==============================] - 0s 2ms/step - loss: 0.0052 - val_loss: 0.0057\n",
      "Epoch 39/1000\n",
      "143/143 [==============================] - 0s 2ms/step - loss: 0.0050 - val_loss: 0.0062\n",
      "Epoch 40/1000\n",
      "143/143 [==============================] - 0s 2ms/step - loss: 0.0052 - val_loss: 0.0057\n"
     ]
    }
   ],
   "source": [
    "history = model.fit(train_X, train_Y, epochs=1000, batch_size=32, validation_split=0.25, callbacks=[tf.keras.callbacks.EarlyStopping(patience=10, monitor='val_loss')])"
   ]
  },
  {
   "cell_type": "code",
   "execution_count": 11,
   "id": "2d2a52a6-6ad2-48b0-a100-96aadf7633a3",
   "metadata": {},
   "outputs": [
    {
     "data": {
      "image/png": "[encoded data removed]",
      "text/plain": [
       "<Figure size 432x288 with 1 Axes>"
      ]
     },
     "metadata": {
      "needs_background": "light"
     },
     "output_type": "display_data"
    }
   ],
   "source": [
    "import matplotlib.pyplot as plt\n",
    "\n",
    "plt.plot(history.history['loss'], 'b-', label='loss')\n",
    "plt.plot(history.history['val_loss'], 'r--', label='val_loss')\n",
    "plt.xlabel('Epoch')\n",
    "plt.legend()\n",
    "plt.show()"
   ]
  },
  {
   "cell_type": "code",
   "execution_count": 12,
   "id": "b7dc2bda-b4be-440c-b207-887fdde22088",
   "metadata": {},
   "outputs": [
    {
     "name": "stdout",
     "output_type": "stream",
     "text": [
      "48/48 [==============================] - 0s 937us/step - loss: 0.0053\n"
     ]
    },
    {
     "data": {
      "text/plain": [
       "0.005285298451781273"
      ]
     },
     "execution_count": 12,
     "metadata": {},
     "output_type": "execute_result"
    }
   ],
   "source": [
    "model.evaluate(test_X, test_Y)"
   ]
  },
  {
   "cell_type": "code",
   "execution_count": 13,
   "id": "2c38bacf-62e2-4f41-8b5b-f6ca70ba27c7",
   "metadata": {},
   "outputs": [
    {
     "data": {
      "image/png": "[encoded data removed]",
      "text/plain": [
       "<Figure size 360x360 with 1 Axes>"
      ]
     },
     "metadata": {
      "needs_background": "light"
     },
     "output_type": "display_data"
    }
   ],
   "source": [
    "tf.random.set_seed(126)\n",
    "\n",
    "import matplotlib.pyplot as plt\n",
    "\n",
    "pred_Y = model.predict(test_X)\n",
    "\n",
    "plt.figure(figsize=(5,5))\n",
    "plt.plot(test_Y, pred_Y, 'b.')\n",
    "plt.axis([min(test_Y), max(test_Y), min(test_Y), max(test_Y)])\n",
    "\n",
    "# y=x에 해당하는 대각선\n",
    "plt.plot([min(test_Y), max(test_Y)], [min(test_Y), max(test_Y)], ls=\"--\", c=\".3\")\n",
    "plt.xlabel('test_Y')\n",
    "plt.ylabel('pred_Y')\n",
    "\n",
    "plt.show()"
   ]
  },
  {
   "cell_type": "code",
   "execution_count": null,
   "id": "dc883a6a-d785-4268-b931-21661ca1378e",
   "metadata": {},
   "outputs": [],
   "source": []
  }
 ],
 "metadata": {
  "kernelspec": {
   "display_name": "Python 3",
   "language": "python",
   "name": "python3"
  },
  "language_info": {
   "codemirror_mode": {
    "name": "ipython",
    "version": 3
   },
   "file_extension": ".py",
   "mimetype": "text/x-python",
   "name": "python",
   "nbconvert_exporter": "python",
   "pygments_lexer": "ipython3",
   "version": "3.8.8"
  }
 },
 "nbformat": 4,
 "nbformat_minor": 5
}
