{
 "cells": [
  {
   "cell_type": "code",
   "execution_count": 1,
   "id": "03bc96d9-3758-4687-9d0a-5f1ee513850d",
   "metadata": {},
   "outputs": [],
   "source": [
    "import tensorflow as tf\n",
    "import pandas as pd\n",
    "import numpy as np\n",
    "from sklearn.model_selection import train_test_split\n",
    "from imblearn.over_sampling import SMOTE"
   ]
  },
  {
   "cell_type": "code",
   "execution_count": 2,
   "id": "69e35bb1-2a83-477a-a87c-f01652010433",
   "metadata": {},
   "outputs": [],
   "source": [
    "dataset = pd.read_excel('data/data.xlsx')\n",
    "label = 'Target'"
   ]
  },
  {
   "cell_type": "code",
   "execution_count": 3,
   "id": "e41da6d7-5d4c-4d25-859b-a01292758677",
   "metadata": {},
   "outputs": [],
   "source": [
    "y = dataset.pop(label)\n",
    "X = dataset"
   ]
  },
  {
   "cell_type": "code",
   "execution_count": 4,
   "id": "12e00fe1-b354-4896-bf4a-fbb99146f8ef",
   "metadata": {},
   "outputs": [],
   "source": [
    "# oversample = SMOTE()\n",
    "# X, y = oversample.fit_resample(X, y)"
   ]
  },
  {
   "cell_type": "code",
   "execution_count": 5,
   "id": "9a9730e2-be4b-4179-bcbe-e8a8a6cd9bdd",
   "metadata": {},
   "outputs": [],
   "source": [
    "train_X, test_X, train_y, test_y = train_test_split(X, y, test_size=0.3, stratify=y)"
   ]
  },
  {
   "cell_type": "code",
   "execution_count": 6,
   "id": "5cbe1f50-8093-4939-8c87-b84cb06e097a",
   "metadata": {},
   "outputs": [],
   "source": [
    "oversample = SMOTE()\n",
    "train_X, train_y = oversample.fit_resample(train_X, train_y)"
   ]
  },
  {
   "cell_type": "code",
   "execution_count": 7,
   "id": "5eb7f9e7-77a6-4b04-a7ef-ab7b85a5a466",
   "metadata": {},
   "outputs": [],
   "source": [
    "train_stats = train_X.describe()\n",
    "train_stats = train_stats.transpose()"
   ]
  },
  {
   "cell_type": "code",
   "execution_count": 8,
   "id": "e78dd934-f697-420b-94e7-1e5cc239f21c",
   "metadata": {},
   "outputs": [],
   "source": [
    "def norm(x):\n",
    "    return (x - train_stats['mean']) / train_stats['std']\n",
    "train_X = norm(train_X)\n",
    "test_X = norm(test_X)"
   ]
  },
  {
   "cell_type": "code",
   "execution_count": 28,
   "id": "55fb66fb-beec-4e2b-ad90-c24a0350e12f",
   "metadata": {},
   "outputs": [
    {
     "name": "stdout",
     "output_type": "stream",
     "text": [
      "Model: \"sequential_6\"\n",
      "_________________________________________________________________\n",
      "Layer (type)                 Output Shape              Param #   \n",
      "=================================================================\n",
      "dense_18 (Dense)             (None, 20)                680       \n",
      "_________________________________________________________________\n",
      "dense_19 (Dense)             (None, 20)                420       \n",
      "_________________________________________________________________\n",
      "dense_20 (Dense)             (None, 1)                 21        \n",
      "=================================================================\n",
      "Total params: 1,121\n",
      "Trainable params: 1,121\n",
      "Non-trainable params: 0\n",
      "_________________________________________________________________\n"
     ]
    }
   ],
   "source": [
    "model = tf.keras.Sequential([\n",
    "    tf.keras.layers.Dense(units=20, activation='relu', input_shape=(33,)),\n",
    "    tf.keras.layers.Dense(units=20, activation='relu'),\n",
    "#     tf.keras.layers.Dense(units=20, activation='relu'),\n",
    "    tf.keras.layers.Dense(units=1, activation='sigmoid')\n",
    "])\n",
    "\n",
    "model.compile(optimizer=tf.keras.optimizers.Adam(learning_rate=0.01), loss='binary_crossentropy', metrics=['accuracy'])\n",
    "\n",
    "model.summary()"
   ]
  },
  {
   "cell_type": "code",
   "execution_count": 29,
   "id": "c930b0b8-ea82-41fe-b48b-b0349b1d28ec",
   "metadata": {},
   "outputs": [
    {
     "name": "stdout",
     "output_type": "stream",
     "text": [
      "Epoch 1/50\n",
      "27/27 [==============================] - 0s 6ms/step - loss: 0.5193 - accuracy: 0.7441 - val_loss: 0.7755 - val_accuracy: 0.5634\n",
      "Epoch 2/50\n",
      "27/27 [==============================] - 0s 3ms/step - loss: 0.2871 - accuracy: 0.8720 - val_loss: 0.3419 - val_accuracy: 0.8592\n",
      "Epoch 3/50\n",
      "27/27 [==============================] - 0s 3ms/step - loss: 0.1626 - accuracy: 0.9621 - val_loss: 0.2692 - val_accuracy: 0.9155\n",
      "Epoch 4/50\n",
      "27/27 [==============================] - 0s 3ms/step - loss: 0.1036 - accuracy: 0.9526 - val_loss: 0.0965 - val_accuracy: 0.9859\n",
      "Epoch 5/50\n",
      "27/27 [==============================] - 0s 3ms/step - loss: 0.0606 - accuracy: 0.9810 - val_loss: 0.2434 - val_accuracy: 0.9155\n",
      "Epoch 6/50\n",
      "27/27 [==============================] - 0s 3ms/step - loss: 0.0333 - accuracy: 0.9953 - val_loss: 0.1387 - val_accuracy: 0.9437\n",
      "Epoch 7/50\n",
      "27/27 [==============================] - 0s 3ms/step - loss: 0.0217 - accuracy: 0.9905 - val_loss: 0.0396 - val_accuracy: 0.9859\n",
      "Epoch 8/50\n",
      "27/27 [==============================] - 0s 3ms/step - loss: 0.0496 - accuracy: 0.9810 - val_loss: 0.0460 - val_accuracy: 0.9718\n",
      "Epoch 9/50\n",
      "27/27 [==============================] - 0s 3ms/step - loss: 0.0209 - accuracy: 0.9905 - val_loss: 0.0631 - val_accuracy: 0.9859\n",
      "Epoch 10/50\n",
      "27/27 [==============================] - 0s 3ms/step - loss: 0.0298 - accuracy: 0.9953 - val_loss: 0.1909 - val_accuracy: 0.9155\n",
      "Epoch 11/50\n",
      "27/27 [==============================] - 0s 3ms/step - loss: 0.0794 - accuracy: 0.9763 - val_loss: 0.1565 - val_accuracy: 0.9718\n",
      "Epoch 12/50\n",
      "27/27 [==============================] - 0s 3ms/step - loss: 0.0104 - accuracy: 1.0000 - val_loss: 0.0316 - val_accuracy: 0.9859\n",
      "Epoch 13/50\n",
      "27/27 [==============================] - 0s 3ms/step - loss: 0.0047 - accuracy: 1.0000 - val_loss: 0.0498 - val_accuracy: 0.9859\n",
      "Epoch 14/50\n",
      "27/27 [==============================] - 0s 3ms/step - loss: 0.0026 - accuracy: 1.0000 - val_loss: 0.0852 - val_accuracy: 0.9718\n",
      "Epoch 15/50\n",
      "27/27 [==============================] - 0s 3ms/step - loss: 0.0021 - accuracy: 1.0000 - val_loss: 0.0494 - val_accuracy: 0.9859\n",
      "Epoch 16/50\n",
      "27/27 [==============================] - 0s 3ms/step - loss: 0.0015 - accuracy: 1.0000 - val_loss: 0.0539 - val_accuracy: 0.9859\n",
      "Epoch 17/50\n",
      "27/27 [==============================] - 0s 3ms/step - loss: 0.0012 - accuracy: 1.0000 - val_loss: 0.0487 - val_accuracy: 0.9859\n",
      "Epoch 18/50\n",
      "27/27 [==============================] - 0s 3ms/step - loss: 0.0011 - accuracy: 1.0000 - val_loss: 0.0448 - val_accuracy: 0.9859\n",
      "Epoch 19/50\n",
      "27/27 [==============================] - 0s 3ms/step - loss: 8.7121e-04 - accuracy: 1.0000 - val_loss: 0.0422 - val_accuracy: 0.9859\n",
      "Epoch 20/50\n",
      "27/27 [==============================] - 0s 3ms/step - loss: 7.7884e-04 - accuracy: 1.0000 - val_loss: 0.0433 - val_accuracy: 0.9859\n",
      "Epoch 21/50\n",
      "27/27 [==============================] - 0s 3ms/step - loss: 6.7607e-04 - accuracy: 1.0000 - val_loss: 0.0387 - val_accuracy: 0.9859\n",
      "Epoch 22/50\n",
      "27/27 [==============================] - 0s 3ms/step - loss: 6.2605e-04 - accuracy: 1.0000 - val_loss: 0.0383 - val_accuracy: 0.9859\n",
      "Epoch 23/50\n",
      "27/27 [==============================] - 0s 3ms/step - loss: 5.1754e-04 - accuracy: 1.0000 - val_loss: 0.0362 - val_accuracy: 0.9859\n",
      "Epoch 24/50\n",
      "27/27 [==============================] - 0s 3ms/step - loss: 4.6470e-04 - accuracy: 1.0000 - val_loss: 0.0352 - val_accuracy: 0.9859\n",
      "Epoch 25/50\n",
      "27/27 [==============================] - 0s 3ms/step - loss: 4.0850e-04 - accuracy: 1.0000 - val_loss: 0.0340 - val_accuracy: 0.9859\n",
      "Epoch 26/50\n",
      "27/27 [==============================] - 0s 3ms/step - loss: 3.7613e-04 - accuracy: 1.0000 - val_loss: 0.0315 - val_accuracy: 0.9859\n",
      "Epoch 27/50\n",
      "27/27 [==============================] - 0s 3ms/step - loss: 3.3652e-04 - accuracy: 1.0000 - val_loss: 0.0328 - val_accuracy: 0.9859\n",
      "Epoch 28/50\n",
      "27/27 [==============================] - 0s 3ms/step - loss: 3.0651e-04 - accuracy: 1.0000 - val_loss: 0.0315 - val_accuracy: 0.9859\n",
      "Epoch 29/50\n",
      "27/27 [==============================] - 0s 3ms/step - loss: 2.8388e-04 - accuracy: 1.0000 - val_loss: 0.0306 - val_accuracy: 0.9859\n",
      "Epoch 30/50\n",
      "27/27 [==============================] - 0s 3ms/step - loss: 2.5896e-04 - accuracy: 1.0000 - val_loss: 0.0305 - val_accuracy: 0.9859\n",
      "Epoch 31/50\n",
      "27/27 [==============================] - 0s 3ms/step - loss: 2.4004e-04 - accuracy: 1.0000 - val_loss: 0.0291 - val_accuracy: 0.9859\n",
      "Epoch 32/50\n",
      "27/27 [==============================] - 0s 3ms/step - loss: 2.1978e-04 - accuracy: 1.0000 - val_loss: 0.0290 - val_accuracy: 0.9859\n",
      "Epoch 33/50\n",
      "27/27 [==============================] - 0s 3ms/step - loss: 2.0537e-04 - accuracy: 1.0000 - val_loss: 0.0286 - val_accuracy: 0.9859\n",
      "Epoch 34/50\n",
      "27/27 [==============================] - 0s 3ms/step - loss: 1.9045e-04 - accuracy: 1.0000 - val_loss: 0.0276 - val_accuracy: 0.9859\n",
      "Epoch 35/50\n",
      "27/27 [==============================] - 0s 3ms/step - loss: 1.7563e-04 - accuracy: 1.0000 - val_loss: 0.0275 - val_accuracy: 0.9859\n",
      "Epoch 36/50\n",
      "27/27 [==============================] - 0s 3ms/step - loss: 1.6669e-04 - accuracy: 1.0000 - val_loss: 0.0263 - val_accuracy: 0.9859\n",
      "Epoch 37/50\n",
      "27/27 [==============================] - 0s 3ms/step - loss: 1.5494e-04 - accuracy: 1.0000 - val_loss: 0.0268 - val_accuracy: 0.9859\n",
      "Epoch 38/50\n",
      "27/27 [==============================] - 0s 3ms/step - loss: 1.4504e-04 - accuracy: 1.0000 - val_loss: 0.0268 - val_accuracy: 0.9859\n",
      "Epoch 39/50\n",
      "27/27 [==============================] - 0s 3ms/step - loss: 1.3822e-04 - accuracy: 1.0000 - val_loss: 0.0259 - val_accuracy: 0.9859\n",
      "Epoch 40/50\n",
      "27/27 [==============================] - 0s 3ms/step - loss: 1.2772e-04 - accuracy: 1.0000 - val_loss: 0.0241 - val_accuracy: 0.9859\n",
      "Epoch 41/50\n",
      "27/27 [==============================] - 0s 3ms/step - loss: 1.2022e-04 - accuracy: 1.0000 - val_loss: 0.0243 - val_accuracy: 0.9859\n",
      "Epoch 42/50\n",
      "27/27 [==============================] - 0s 3ms/step - loss: 1.1435e-04 - accuracy: 1.0000 - val_loss: 0.0238 - val_accuracy: 0.9859\n",
      "Epoch 43/50\n",
      "27/27 [==============================] - 0s 3ms/step - loss: 1.0886e-04 - accuracy: 1.0000 - val_loss: 0.0236 - val_accuracy: 0.9859\n",
      "Epoch 44/50\n",
      "27/27 [==============================] - 0s 3ms/step - loss: 1.0325e-04 - accuracy: 1.0000 - val_loss: 0.0237 - val_accuracy: 0.9859\n",
      "Epoch 45/50\n",
      "27/27 [==============================] - 0s 3ms/step - loss: 9.7680e-05 - accuracy: 1.0000 - val_loss: 0.0235 - val_accuracy: 0.9859\n",
      "Epoch 46/50\n",
      "27/27 [==============================] - 0s 3ms/step - loss: 9.3977e-05 - accuracy: 1.0000 - val_loss: 0.0231 - val_accuracy: 0.9859\n",
      "Epoch 47/50\n",
      "27/27 [==============================] - 0s 3ms/step - loss: 8.8912e-05 - accuracy: 1.0000 - val_loss: 0.0220 - val_accuracy: 0.9859\n",
      "Epoch 48/50\n",
      "27/27 [==============================] - 0s 3ms/step - loss: 8.5468e-05 - accuracy: 1.0000 - val_loss: 0.0242 - val_accuracy: 0.9859\n",
      "Epoch 49/50\n",
      "27/27 [==============================] - 0s 3ms/step - loss: 8.1273e-05 - accuracy: 1.0000 - val_loss: 0.0237 - val_accuracy: 0.9859\n",
      "Epoch 50/50\n",
      "27/27 [==============================] - 0s 3ms/step - loss: 7.6831e-05 - accuracy: 1.0000 - val_loss: 0.0221 - val_accuracy: 0.9859\n"
     ]
    }
   ],
   "source": [
    "history = model.fit(train_X, train_y, epochs=50, batch_size=8, validation_split=0.25)"
   ]
  },
  {
   "cell_type": "code",
   "execution_count": 11,
   "id": "53c618fa-0707-4ce8-ac7e-afb7b2fd03b6",
   "metadata": {},
   "outputs": [
    {
     "data": {
      "image/png": "[encoded data removed]",
      "text/plain": [
       "<Figure size 864x288 with 2 Axes>"
      ]
     },
     "metadata": {
      "needs_background": "light"
     },
     "output_type": "display_data"
    }
   ],
   "source": [
    "import matplotlib.pyplot as plt\n",
    "plt.figure(figsize=(12, 4))\n",
    "\n",
    "plt.subplot(1, 2, 1)\n",
    "plt.plot(history.history['loss'], 'b-', label='loss')\n",
    "plt.plot(history.history['val_loss'], 'r--', label='val_loss')\n",
    "plt.xlabel('Epoch')\n",
    "plt.legend()\n",
    "\n",
    "plt.subplot(1, 2, 2)\n",
    "plt.plot(history.history['accuracy'], 'g-', label='accuracy')\n",
    "plt.plot(history.history['val_accuracy'], 'k--', label='val_accuracy')\n",
    "plt.xlabel('Epoch')\n",
    "plt.ylim(0.3, 1)\n",
    "plt.legend()\n",
    "\n",
    "plt.show()"
   ]
  },
  {
   "cell_type": "code",
   "execution_count": 12,
   "id": "349b2fa1-5c1c-47ef-899d-da95076b2718",
   "metadata": {},
   "outputs": [
    {
     "name": "stdout",
     "output_type": "stream",
     "text": [
      "3/3 [==============================] - 0s 4ms/step - loss: 1.5649 - accuracy: 0.7879\n"
     ]
    },
    {
     "data": {
      "text/plain": [
       "[1.564933180809021, 0.7878788113594055]"
      ]
     },
     "execution_count": 12,
     "metadata": {},
     "output_type": "execute_result"
    }
   ],
   "source": [
    "model.evaluate(test_X, test_y)"
   ]
  },
  {
   "cell_type": "code",
   "execution_count": 13,
   "id": "1f18368b-9041-4380-8739-bf553f71bd8e",
   "metadata": {},
   "outputs": [],
   "source": [
    "predict_y= model.predict(test_X)"
   ]
  },
  {
   "cell_type": "code",
   "execution_count": 14,
   "id": "81687c99-321c-434f-88fb-2902879291f0",
   "metadata": {},
   "outputs": [],
   "source": [
    "a = []\n",
    "for i in predict_y:\n",
    "    if i >= 0.5 : \n",
    "        a.append(1)\n",
    "    else :\n",
    "        a.append(0)"
   ]
  },
  {
   "cell_type": "code",
   "execution_count": 15,
   "id": "d9deacd6-ef85-4294-9099-7a526f9738c2",
   "metadata": {},
   "outputs": [],
   "source": [
    "con_mat = tf.math.confusion_matrix(labels=test_y, predictions=a, num_classes=2)"
   ]
  },
  {
   "cell_type": "code",
   "execution_count": 16,
   "id": "904ffebb-d3ad-42bc-b36d-1c24ec0d743e",
   "metadata": {},
   "outputs": [
    {
     "data": {
      "text/plain": [
       "<tf.Tensor: shape=(2, 2), dtype=int32, numpy=\n",
       "array([[ 1,  4],\n",
       "       [10, 51]])>"
      ]
     },
     "execution_count": 16,
     "metadata": {},
     "output_type": "execute_result"
    }
   ],
   "source": [
    "con_mat"
   ]
  },
  {
   "cell_type": "code",
   "execution_count": 17,
   "id": "1c17bc31-154c-4a86-ac11-4fd791e1ec80",
   "metadata": {},
   "outputs": [
    {
     "name": "stdout",
     "output_type": "stream",
     "text": [
      "Accuracy: 0.7879\n",
      "Recall: 0.2000\n",
      "F1_Score: 0.3190\n"
     ]
    }
   ],
   "source": [
    "TP = con_mat[0][0] \n",
    "FN = con_mat[0][1] \n",
    "FP = con_mat[1][0] \n",
    "TN = con_mat[1][1] \n",
    "\n",
    "Accuracy = (TP+TN)/(TP+FN+FP+TN)\n",
    "print('Accuracy:', '{:.4f}'.format(Accuracy))\n",
    "      \n",
    "Recall = TP/(TP+FN) \n",
    "print('Recall:', '{:.4f}'.format(Recall))\n",
    "\n",
    "F1_Score = 2 * (Accuracy * Recall) / (Accuracy + Recall)\n",
    "print('F1_Score:', '{:.4f}'.format(F1_Score))"
   ]
  },
  {
   "cell_type": "code",
   "execution_count": null,
   "id": "2df49d98-0037-4228-b609-f075b5a44793",
   "metadata": {},
   "outputs": [],
   "source": []
  }
 ],
 "metadata": {
  "kernelspec": {
   "display_name": "Python 3",
   "language": "python",
   "name": "python3"
  },
  "language_info": {
   "codemirror_mode": {
    "name": "ipython",
    "version": 3
   },
   "file_extension": ".py",
   "mimetype": "text/x-python",
   "name": "python",
   "nbconvert_exporter": "python",
   "pygments_lexer": "ipython3",
   "version": "3.8.8"
  }
 },
 "nbformat": 4,
 "nbformat_minor": 5
}
