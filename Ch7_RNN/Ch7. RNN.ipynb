{
 "cells": [
  {
   "cell_type": "code",
   "execution_count": 1,
   "id": "e217841c-d41e-47b9-aa55-f67e86bebc8f",
   "metadata": {},
   "outputs": [],
   "source": [
    "import tensorflow as tf\n",
    "import numpy as np"
   ]
  },
  {
   "cell_type": "markdown",
   "id": "3986f745-f87f-4245-aafc-1bd805ae6ce9",
   "metadata": {},
   "source": [
    "# RNN"
   ]
  },
  {
   "cell_type": "code",
   "execution_count": 2,
   "id": "f60e025e-24ee-4d93-85ac-f33696072036",
   "metadata": {},
   "outputs": [],
   "source": [
    "rnn1 = tf.keras.layers.SimpleRNN(units=1, activation='tanh', return_sequences=True)"
   ]
  },
  {
   "cell_type": "code",
   "execution_count": 3,
   "id": "296790ec-c692-4a0f-a9fa-ce266ca71ca1",
   "metadata": {},
   "outputs": [
    {
     "name": "stdout",
     "output_type": "stream",
     "text": [
      "[[0. ]\n",
      " [0.1]\n",
      " [0.2]\n",
      " [0.3]] 0.4\n",
      "[[0.1]\n",
      " [0.2]\n",
      " [0.3]\n",
      " [0.4]] 0.5\n",
      "[[0.2]\n",
      " [0.3]\n",
      " [0.4]\n",
      " [0.5]] 0.6\n",
      "[[0.3]\n",
      " [0.4]\n",
      " [0.5]\n",
      " [0.6]] 0.7\n",
      "[[0.4]\n",
      " [0.5]\n",
      " [0.6]\n",
      " [0.7]] 0.8\n",
      "[[0.5]\n",
      " [0.6]\n",
      " [0.7]\n",
      " [0.8]] 0.9\n"
     ]
    }
   ],
   "source": [
    "X = []\n",
    "Y = []\n",
    "for i in range(6):\n",
    "    lst = list(range(i,i+4))\n",
    "    X.append(list(map(lambda c: [c/10], lst)))\n",
    "    Y.append((i+4)/10)\n",
    "    \n",
    "X = np.array(X)\n",
    "Y = np.array(Y)\n",
    "for i in range(len(X)):\n",
    "    print(X[i], Y[i])"
   ]
  },
  {
   "cell_type": "code",
   "execution_count": 4,
   "id": "f1ca255f-267c-4d3c-ac1b-dbeec579fbda",
   "metadata": {},
   "outputs": [
    {
     "name": "stdout",
     "output_type": "stream",
     "text": [
      "Model: \"sequential\"\n",
      "_________________________________________________________________\n",
      "Layer (type)                 Output Shape              Param #   \n",
      "=================================================================\n",
      "simple_rnn_1 (SimpleRNN)     (None, 10)                120       \n",
      "_________________________________________________________________\n",
      "dense (Dense)                (None, 1)                 11        \n",
      "=================================================================\n",
      "Total params: 131\n",
      "Trainable params: 131\n",
      "Non-trainable params: 0\n",
      "_________________________________________________________________\n"
     ]
    }
   ],
   "source": [
    "model = tf.keras.Sequential([\n",
    "    tf.keras.layers.SimpleRNN(units=10, return_sequences=False, input_shape=[4,1]),\n",
    "    tf.keras.layers.Dense(1)\n",
    "])\n",
    "\n",
    "model.compile(optimizer='adam', loss='mse')\n",
    "model.summary()"
   ]
  },
  {
   "cell_type": "code",
   "execution_count": 5,
   "id": "befdc3dd-6164-48b8-a316-97b84eced0fb",
   "metadata": {},
   "outputs": [
    {
     "name": "stdout",
     "output_type": "stream",
     "text": [
      "[[0.40528154]\n",
      " [0.5267162 ]\n",
      " [0.6284463 ]\n",
      " [0.7101967 ]\n",
      " [0.77369976]\n",
      " [0.8215594 ]]\n"
     ]
    }
   ],
   "source": [
    "model.fit(X, Y, epochs=100, verbose=0)\n",
    "print(model.predict(X))"
   ]
  },
  {
   "cell_type": "code",
   "execution_count": 6,
   "id": "d51fea0a-f937-490c-9cb6-3ade9b20dac7",
   "metadata": {},
   "outputs": [
    {
     "name": "stdout",
     "output_type": "stream",
     "text": [
      "[[0.8564883]]\n",
      "[[0.26754123]]\n"
     ]
    }
   ],
   "source": [
    "print(model.predict(np.array([[[0.6],[0.7],[0.8],[0.9]]])))\n",
    "print(model.predict(np.array([[[-0.1],[0.0],[0.1],[0.2]]])))"
   ]
  },
  {
   "cell_type": "markdown",
   "id": "251b3cdc-061d-497a-ae2e-9b8275af122a",
   "metadata": {},
   "source": [
    "# LSTM"
   ]
  },
  {
   "cell_type": "code",
   "execution_count": 8,
   "id": "8716ea2d-8e0e-4a3b-a0e8-8d8bc1eb7094",
   "metadata": {},
   "outputs": [],
   "source": [
    "X = []\n",
    "Y = []\n",
    "for i in range(3000):\n",
    "    lst = np.random.rand(100)\n",
    "    idx = np.random.choice(100, 2, replace=False)\n",
    "    zeros = np.zeros(100)\n",
    "    zeros[idx] = 1\n",
    "    X.append(np.array(list(zip(zeros, lst))))\n",
    "    Y.append(np.prod(lst[idx]))"
   ]
  },
  {
   "cell_type": "code",
   "execution_count": 9,
   "id": "15f9013e-5932-4c51-820c-f4378bf6582b",
   "metadata": {},
   "outputs": [
    {
     "name": "stdout",
     "output_type": "stream",
     "text": [
      "Model: \"sequential_1\"\n",
      "_________________________________________________________________\n",
      "Layer (type)                 Output Shape              Param #   \n",
      "=================================================================\n",
      "lstm (LSTM)                  (None, 100, 30)           3960      \n",
      "_________________________________________________________________\n",
      "lstm_1 (LSTM)                (None, 30)                7320      \n",
      "_________________________________________________________________\n",
      "dense_1 (Dense)              (None, 1)                 31        \n",
      "=================================================================\n",
      "Total params: 11,311\n",
      "Trainable params: 11,311\n",
      "Non-trainable params: 0\n",
      "_________________________________________________________________\n"
     ]
    }
   ],
   "source": [
    "model = tf.keras.Sequential([\n",
    "    tf.keras.layers.LSTM(units=30, return_sequences=True, input_shape=[100,2]),\n",
    "    tf.keras.layers.LSTM(units=30),\n",
    "    tf.keras.layers.Dense(1)\n",
    "])\n",
    "\n",
    "model.compile(optimizer='adam', loss='mse')\n",
    "model.summary()"
   ]
  },
  {
   "cell_type": "code",
   "execution_count": 10,
   "id": "c8c02a92-6d8a-4603-bbbc-ab59912df896",
   "metadata": {},
   "outputs": [
    {
     "name": "stdout",
     "output_type": "stream",
     "text": [
      "Epoch 1/100\n",
      "64/64 [==============================] - 5s 15ms/step - loss: 0.0502 - val_loss: 0.0507\n",
      "Epoch 2/100\n",
      "64/64 [==============================] - 1s 8ms/step - loss: 0.0492 - val_loss: 0.0508\n",
      "Epoch 3/100\n",
      "64/64 [==============================] - 1s 9ms/step - loss: 0.0497 - val_loss: 0.0509\n",
      "Epoch 4/100\n",
      "64/64 [==============================] - 1s 9ms/step - loss: 0.0488 - val_loss: 0.0506\n",
      "Epoch 5/100\n",
      "64/64 [==============================] - 1s 8ms/step - loss: 0.0493 - val_loss: 0.0505\n",
      "Epoch 6/100\n",
      "64/64 [==============================] - 1s 9ms/step - loss: 0.0487 - val_loss: 0.0508\n",
      "Epoch 7/100\n",
      "64/64 [==============================] - 1s 8ms/step - loss: 0.0488 - val_loss: 0.0505\n",
      "Epoch 8/100\n",
      "64/64 [==============================] - 1s 9ms/step - loss: 0.0490 - val_loss: 0.0514\n",
      "Epoch 9/100\n",
      "64/64 [==============================] - 1s 9ms/step - loss: 0.0492 - val_loss: 0.0504\n",
      "Epoch 10/100\n",
      "64/64 [==============================] - 1s 9ms/step - loss: 0.0487 - val_loss: 0.0504\n",
      "Epoch 11/100\n",
      "64/64 [==============================] - 1s 9ms/step - loss: 0.0486 - val_loss: 0.0504\n",
      "Epoch 12/100\n",
      "64/64 [==============================] - 1s 8ms/step - loss: 0.0490 - val_loss: 0.0508\n",
      "Epoch 13/100\n",
      "64/64 [==============================] - 1s 8ms/step - loss: 0.0489 - val_loss: 0.0504\n",
      "Epoch 14/100\n",
      "64/64 [==============================] - 1s 8ms/step - loss: 0.0491 - val_loss: 0.0509\n",
      "Epoch 15/100\n",
      "64/64 [==============================] - 1s 8ms/step - loss: 0.0492 - val_loss: 0.0506\n",
      "Epoch 16/100\n",
      "64/64 [==============================] - 1s 8ms/step - loss: 0.0487 - val_loss: 0.0507\n",
      "Epoch 17/100\n",
      "64/64 [==============================] - 1s 8ms/step - loss: 0.0486 - val_loss: 0.0503\n",
      "Epoch 18/100\n",
      "64/64 [==============================] - 1s 8ms/step - loss: 0.0487 - val_loss: 0.0507\n",
      "Epoch 19/100\n",
      "64/64 [==============================] - 1s 8ms/step - loss: 0.0485 - val_loss: 0.0508\n",
      "Epoch 20/100\n",
      "64/64 [==============================] - 1s 9ms/step - loss: 0.0487 - val_loss: 0.0508\n",
      "Epoch 21/100\n",
      "64/64 [==============================] - 1s 8ms/step - loss: 0.0483 - val_loss: 0.0523\n",
      "Epoch 22/100\n",
      "64/64 [==============================] - 1s 8ms/step - loss: 0.0479 - val_loss: 0.0504\n",
      "Epoch 23/100\n",
      "64/64 [==============================] - 1s 8ms/step - loss: 0.0478 - val_loss: 0.0493\n",
      "Epoch 24/100\n",
      "64/64 [==============================] - 1s 8ms/step - loss: 0.0506 - val_loss: 0.0518\n",
      "Epoch 25/100\n",
      "64/64 [==============================] - 1s 8ms/step - loss: 0.0487 - val_loss: 0.0502\n",
      "Epoch 26/100\n",
      "64/64 [==============================] - 1s 8ms/step - loss: 0.0487 - val_loss: 0.0503\n",
      "Epoch 27/100\n",
      "64/64 [==============================] - 1s 8ms/step - loss: 0.0486 - val_loss: 0.0503\n",
      "Epoch 28/100\n",
      "64/64 [==============================] - 1s 8ms/step - loss: 0.0483 - val_loss: 0.0501\n",
      "Epoch 29/100\n",
      "64/64 [==============================] - 1s 8ms/step - loss: 0.0482 - val_loss: 0.0500\n",
      "Epoch 30/100\n",
      "64/64 [==============================] - 1s 9ms/step - loss: 0.0481 - val_loss: 0.0498\n",
      "Epoch 31/100\n",
      "64/64 [==============================] - 1s 9ms/step - loss: 0.0480 - val_loss: 0.0497\n",
      "Epoch 32/100\n",
      "64/64 [==============================] - 1s 8ms/step - loss: 0.0475 - val_loss: 0.0505\n",
      "Epoch 33/100\n",
      "64/64 [==============================] - 1s 8ms/step - loss: 0.0482 - val_loss: 0.0497\n",
      "Epoch 34/100\n",
      "64/64 [==============================] - 1s 8ms/step - loss: 0.0476 - val_loss: 0.0492\n",
      "Epoch 35/100\n",
      "64/64 [==============================] - 1s 8ms/step - loss: 0.0466 - val_loss: 0.0495\n",
      "Epoch 36/100\n",
      "64/64 [==============================] - 1s 8ms/step - loss: 0.0465 - val_loss: 0.0473\n",
      "Epoch 37/100\n",
      "64/64 [==============================] - 1s 9ms/step - loss: 0.0445 - val_loss: 0.0479\n",
      "Epoch 38/100\n",
      "64/64 [==============================] - 1s 9ms/step - loss: 0.0450 - val_loss: 0.0467\n",
      "Epoch 39/100\n",
      "64/64 [==============================] - 1s 8ms/step - loss: 0.0417 - val_loss: 0.0374\n",
      "Epoch 40/100\n",
      "64/64 [==============================] - 1s 9ms/step - loss: 0.0352 - val_loss: 0.0289\n",
      "Epoch 41/100\n",
      "64/64 [==============================] - 1s 8ms/step - loss: 0.0196 - val_loss: 0.0134\n",
      "Epoch 42/100\n",
      "64/64 [==============================] - 1s 8ms/step - loss: 0.0125 - val_loss: 0.0102\n",
      "Epoch 43/100\n",
      "64/64 [==============================] - 1s 8ms/step - loss: 0.0108 - val_loss: 0.0091\n",
      "Epoch 44/100\n",
      "64/64 [==============================] - 1s 8ms/step - loss: 0.0090 - val_loss: 0.0064\n",
      "Epoch 45/100\n",
      "64/64 [==============================] - 1s 8ms/step - loss: 0.0073 - val_loss: 0.0059\n",
      "Epoch 46/100\n",
      "64/64 [==============================] - 1s 8ms/step - loss: 0.0065 - val_loss: 0.0056\n",
      "Epoch 47/100\n",
      "64/64 [==============================] - 1s 8ms/step - loss: 0.0056 - val_loss: 0.0091\n",
      "Epoch 48/100\n",
      "64/64 [==============================] - 1s 8ms/step - loss: 0.0052 - val_loss: 0.0046\n",
      "Epoch 49/100\n",
      "64/64 [==============================] - 1s 9ms/step - loss: 0.0051 - val_loss: 0.0064\n",
      "Epoch 50/100\n",
      "64/64 [==============================] - 1s 8ms/step - loss: 0.0069 - val_loss: 0.0041\n",
      "Epoch 51/100\n",
      "64/64 [==============================] - 1s 8ms/step - loss: 0.0048 - val_loss: 0.0054\n",
      "Epoch 52/100\n",
      "64/64 [==============================] - 1s 8ms/step - loss: 0.0046 - val_loss: 0.0054\n",
      "Epoch 53/100\n",
      "64/64 [==============================] - 1s 8ms/step - loss: 0.0047 - val_loss: 0.0039\n",
      "Epoch 54/100\n",
      "64/64 [==============================] - 1s 8ms/step - loss: 0.0048 - val_loss: 0.0060\n",
      "Epoch 55/100\n",
      "64/64 [==============================] - 1s 8ms/step - loss: 0.0039 - val_loss: 0.0043\n",
      "Epoch 56/100\n",
      "64/64 [==============================] - 1s 8ms/step - loss: 0.0035 - val_loss: 0.0033\n",
      "Epoch 57/100\n",
      "64/64 [==============================] - 1s 8ms/step - loss: 0.0036 - val_loss: 0.0057\n",
      "Epoch 58/100\n",
      "64/64 [==============================] - 1s 9ms/step - loss: 0.0032 - val_loss: 0.0030\n",
      "Epoch 59/100\n",
      "64/64 [==============================] - 1s 9ms/step - loss: 0.0038 - val_loss: 0.0043\n",
      "Epoch 60/100\n",
      "64/64 [==============================] - 1s 9ms/step - loss: 0.0032 - val_loss: 0.0026\n",
      "Epoch 61/100\n",
      "64/64 [==============================] - 1s 9ms/step - loss: 0.0040 - val_loss: 0.0052\n",
      "Epoch 62/100\n",
      "64/64 [==============================] - 1s 8ms/step - loss: 0.0033 - val_loss: 0.0028\n",
      "Epoch 63/100\n",
      "64/64 [==============================] - 1s 8ms/step - loss: 0.0026 - val_loss: 0.0026\n",
      "Epoch 64/100\n",
      "64/64 [==============================] - 1s 9ms/step - loss: 0.0022 - val_loss: 0.0033\n",
      "Epoch 65/100\n",
      "64/64 [==============================] - 1s 9ms/step - loss: 0.0023 - val_loss: 0.0036\n",
      "Epoch 66/100\n",
      "64/64 [==============================] - 1s 8ms/step - loss: 0.0025 - val_loss: 0.0022\n",
      "Epoch 67/100\n",
      "64/64 [==============================] - 1s 8ms/step - loss: 0.0022 - val_loss: 0.0025\n",
      "Epoch 68/100\n",
      "64/64 [==============================] - 1s 8ms/step - loss: 0.0020 - val_loss: 0.0026\n",
      "Epoch 69/100\n",
      "64/64 [==============================] - 1s 8ms/step - loss: 0.0026 - val_loss: 0.0026\n",
      "Epoch 70/100\n",
      "64/64 [==============================] - 1s 8ms/step - loss: 0.0017 - val_loss: 0.0022\n",
      "Epoch 71/100\n",
      "64/64 [==============================] - 1s 8ms/step - loss: 0.0018 - val_loss: 0.0019\n",
      "Epoch 72/100\n",
      "64/64 [==============================] - 1s 8ms/step - loss: 0.0021 - val_loss: 0.0031\n",
      "Epoch 73/100\n",
      "64/64 [==============================] - 1s 8ms/step - loss: 0.0018 - val_loss: 0.0019\n",
      "Epoch 74/100\n",
      "64/64 [==============================] - 1s 8ms/step - loss: 0.0017 - val_loss: 0.0021\n",
      "Epoch 75/100\n",
      "64/64 [==============================] - 1s 8ms/step - loss: 0.0019 - val_loss: 0.0015\n",
      "Epoch 76/100\n",
      "64/64 [==============================] - 1s 8ms/step - loss: 0.0015 - val_loss: 0.0014\n",
      "Epoch 77/100\n",
      "64/64 [==============================] - 1s 8ms/step - loss: 0.0014 - val_loss: 0.0018\n",
      "Epoch 78/100\n",
      "64/64 [==============================] - 1s 8ms/step - loss: 0.0012 - val_loss: 0.0015\n",
      "Epoch 79/100\n",
      "64/64 [==============================] - 1s 8ms/step - loss: 0.0015 - val_loss: 0.0014\n",
      "Epoch 80/100\n",
      "64/64 [==============================] - 1s 8ms/step - loss: 0.0013 - val_loss: 0.0014\n",
      "Epoch 81/100\n",
      "64/64 [==============================] - 1s 9ms/step - loss: 0.0015 - val_loss: 0.0012\n",
      "Epoch 82/100\n",
      "64/64 [==============================] - 1s 9ms/step - loss: 0.0012 - val_loss: 0.0012\n",
      "Epoch 83/100\n",
      "64/64 [==============================] - 1s 9ms/step - loss: 0.0016 - val_loss: 0.0039\n",
      "Epoch 84/100\n",
      "64/64 [==============================] - 1s 9ms/step - loss: 0.0015 - val_loss: 0.0021\n",
      "Epoch 85/100\n",
      "64/64 [==============================] - 1s 9ms/step - loss: 0.0016 - val_loss: 0.0013\n",
      "Epoch 86/100\n",
      "64/64 [==============================] - 1s 9ms/step - loss: 0.0012 - val_loss: 0.0016\n",
      "Epoch 87/100\n",
      "64/64 [==============================] - 1s 9ms/step - loss: 0.0014 - val_loss: 0.0011\n",
      "Epoch 88/100\n",
      "64/64 [==============================] - 1s 9ms/step - loss: 9.1396e-04 - val_loss: 8.7828e-04\n",
      "Epoch 89/100\n",
      "64/64 [==============================] - 1s 9ms/step - loss: 0.0011 - val_loss: 0.0011.\n",
      "Epoch 90/100\n",
      "64/64 [==============================] - 1s 8ms/step - loss: 0.0011 - val_loss: 8.7598e-04\n",
      "Epoch 91/100\n",
      "64/64 [==============================] - 1s 8ms/step - loss: 9.8517e-04 - val_loss: 9.0509e-04\n",
      "Epoch 92/100\n",
      "64/64 [==============================] - 1s 8ms/step - loss: 8.1249e-04 - val_loss: 0.0011\n",
      "Epoch 93/100\n",
      "64/64 [==============================] - 1s 9ms/step - loss: 9.2865e-04 - val_loss: 0.0011\n",
      "Epoch 94/100\n",
      "64/64 [==============================] - 1s 9ms/step - loss: 7.5395e-04 - val_loss: 7.6496e-04\n",
      "Epoch 95/100\n",
      "64/64 [==============================] - 1s 9ms/step - loss: 8.0525e-04 - val_loss: 0.0010\n",
      "Epoch 96/100\n",
      "64/64 [==============================] - 1s 9ms/step - loss: 7.4027e-04 - val_loss: 8.7194e-04\n",
      "Epoch 97/100\n",
      "64/64 [==============================] - 1s 9ms/step - loss: 8.0080e-04 - val_loss: 6.8681e-04\n",
      "Epoch 98/100\n",
      "64/64 [==============================] - 1s 9ms/step - loss: 6.7805e-04 - val_loss: 0.0011\n",
      "Epoch 99/100\n",
      "64/64 [==============================] - 1s 9ms/step - loss: 8.6041e-04 - val_loss: 0.0019\n",
      "Epoch 100/100\n",
      "64/64 [==============================] - 1s 9ms/step - loss: 7.9022e-04 - val_loss: 0.0010\n"
     ]
    }
   ],
   "source": [
    "X = np.array(X)\n",
    "Y = np.array(Y)\n",
    "history = model.fit(X[:2560], Y[:2560], epochs=100, validation_split=0.2)"
   ]
  },
  {
   "cell_type": "code",
   "execution_count": 11,
   "id": "0399e20e-e628-4fb5-b80a-60052b994433",
   "metadata": {},
   "outputs": [
    {
     "data": {
      "image/png": "[encoded data removed]",
      "text/plain": [
       "<Figure size 432x288 with 1 Axes>"
      ]
     },
     "metadata": {
      "needs_background": "light"
     },
     "output_type": "display_data"
    }
   ],
   "source": [
    "import matplotlib.pyplot as plt\n",
    "plt.plot(history.history['loss'], 'b-', label='loss')\n",
    "plt.plot(history.history['val_loss'], 'r--', label='val_loss')\n",
    "plt.xlabel('Epoch')\n",
    "plt.legend()\n",
    "plt.show()"
   ]
  },
  {
   "cell_type": "code",
   "execution_count": 12,
   "id": "686bad16-7da1-4d2e-b52d-3077c141588e",
   "metadata": {},
   "outputs": [
    {
     "name": "stdout",
     "output_type": "stream",
     "text": [
      "14/14 [==============================] - 0s 5ms/step - loss: 0.0011\n",
      "0.01768231448188979 \t 0.02641555 \tdiff: 0.008733234736764843\n",
      "0.018781752671543545 \t 0.023027666 \tdiff: 0.004245913241561466\n",
      "0.03620508578216625 \t 0.035315864 \tdiff: 0.0008892219940383542\n",
      "0.5890630373116781 \t 0.5634142 \tdiff: 0.025648821270113142\n",
      "0.2580453246499286 \t 0.22772479 \tdiff: 0.03032053407680846\n",
      "correctness: 83.86363636363636 %\n"
     ]
    }
   ],
   "source": [
    "model.evaluate(X[2560:], Y[2560:])\n",
    "prediction = model.predict(X[2560:2560+5])\n",
    "for i in range(5):\n",
    "    print(Y[2560+i], '\\t', prediction[i][0], '\\tdiff:', abs(prediction[i][0] - Y[2560+i]))\n",
    "    \n",
    "prediction = model.predict(X[2560:])\n",
    "cnt = 0\n",
    "for i in range(len(prediction)):\n",
    "    if abs(prediction[i][0] - Y[2560+i]) > 0.04:\n",
    "        cnt += 1\n",
    "print('correctness:', (440 - cnt) / 440 * 100, '%')"
   ]
  },
  {
   "cell_type": "markdown",
   "id": "8226d05e-0b70-495b-90eb-d0305a618f86",
   "metadata": {},
   "source": [
    "# 감성 분석"
   ]
  },
  {
   "cell_type": "code",
   "execution_count": 23,
   "id": "627e5817-b7ec-4cd3-96d6-a620181652ce",
   "metadata": {},
   "outputs": [
    {
     "name": "stdout",
     "output_type": "stream",
     "text": [
      "Downloading data from https://raw.githubusercontent.com/e9t/nsmc/master/ratings_train.txt\n",
      "14630912/14628807 [==============================] - 2s 0us/step\n",
      "14639104/14628807 [==============================] - 2s 0us/step\n",
      "Downloading data from https://raw.githubusercontent.com/e9t/nsmc/master/ratings_test.txt\n",
      "4898816/4893335 [==============================] - 0s 0us/step\n",
      "4907008/4893335 [==============================] - 0s 0us/step\n"
     ]
    }
   ],
   "source": [
    "path_to_train_file = tf.keras.utils.get_file('C:\\ykio\\Study_TF\\Ch7_RNN\\\\data\\\\train.txt', 'https://raw.githubusercontent.com/e9t/nsmc/master/ratings_train.txt')\n",
    "path_to_test_file = tf.keras.utils.get_file('C:\\ykio\\Study_TF\\Ch7_RNN\\\\data\\\\test.txt', 'https://raw.githubusercontent.com/e9t/nsmc/master/ratings_test.txt')"
   ]
  },
  {
   "cell_type": "code",
   "execution_count": 24,
   "id": "feb03f5b-d911-40d9-9051-8cc08a5e4e47",
   "metadata": {},
   "outputs": [
    {
     "name": "stdout",
     "output_type": "stream",
     "text": [
      "Length of text: 6937271 characters\n",
      "Length of text: 2318260 characters\n",
      "\n",
      "id\tdocument\tlabel\n",
      "9976970\t아 더빙.. 진짜 짜증나네요 목소리\t0\n",
      "3819312\t흠...포스터보고 초딩영화줄....오버연기조차 가볍지 않구나\t1\n",
      "10265843\t너무재밓었다그래서보는것을추천한다\t0\n",
      "9045019\t교도소 이야기구먼 ..솔직히 재미는 없다..평점 조정\t0\n",
      "6483659\t사이몬페그의 익살스런 연기가 돋보였던 영화!스파이더맨에서 늙어보이기만 했던 커스틴 던스트가 너무나도 이뻐보였다\t1\n",
      "5403919\t막 걸음마 뗀 3세부터 초등학교 1학년생인 8살용영화.ㅋㅋㅋ...별반개도 아까움.\t0\n",
      "7797314\t원작의\n"
     ]
    }
   ],
   "source": [
    "train_text = open(path_to_train_file, 'rb').read().decode(encoding='utf-8')\n",
    "test_text = open(path_to_test_file, 'rb').read().decode(encoding='utf-8')\n",
    "\n",
    "print('Length of text: {} characters'.format(len(train_text)))\n",
    "print('Length of text: {} characters'.format(len(test_text)))\n",
    "print()\n",
    "\n",
    "print(train_text[:300])"
   ]
  },
  {
   "cell_type": "code",
   "execution_count": 25,
   "id": "bcd0540f-ee38-4e0e-9e4a-5a40a239f706",
   "metadata": {},
   "outputs": [
    {
     "name": "stdout",
     "output_type": "stream",
     "text": [
      "(150000, 1) (50000, 1)\n",
      "[[0]\n",
      " [1]\n",
      " [0]\n",
      " [0]\n",
      " [1]]\n"
     ]
    }
   ],
   "source": [
    "train_Y = np.array([[int(row.split('\\t')[2])] for row in train_text.split('\\n')[1:] if row.count('\\t') > 0])\n",
    "test_Y = np.array([[int(row.split('\\t')[2])] for row in test_text.split('\\n')[1:] if row.count('\\t') > 0])\n",
    "print(train_Y.shape, test_Y.shape)\n",
    "print(train_Y[:5])"
   ]
  },
  {
   "cell_type": "code",
   "execution_count": 26,
   "id": "03c22ae2-1cb4-4128-8645-08bb31321422",
   "metadata": {},
   "outputs": [
    {
     "name": "stdout",
     "output_type": "stream",
     "text": [
      "['아', '더빙', '진짜', '짜증나네요', '목소리']\n",
      "['흠', '포스터보고', '초딩영화줄', '오버연기조차', '가볍지', '않구나']\n",
      "['너무재밓었다그래서보는것을추천한다']\n",
      "['교도소', '이야기구먼', '솔직히', '재미는', '없다', '평점', '조정']\n",
      "['사이몬페그의', '익살스런', '연기가', '돋보였던', '영화', '!', '스파이더맨에서', '늙어보이기만', '했던', '커스틴', '던스트가', '너무나도', '이뻐보였다']\n"
     ]
    }
   ],
   "source": [
    "import re\n",
    "def clean_str(string):    \n",
    "    string = re.sub(r\"[^가-힣A-Za-z0-9(),!?\\'\\`]\", \" \", string)\n",
    "    string = re.sub(r\"\\'s\", \" \\'s\", string)\n",
    "    string = re.sub(r\"\\'ve\", \" \\'ve\", string)\n",
    "    string = re.sub(r\"n\\'t\", \" n\\'t\", string)\n",
    "    string = re.sub(r\"\\'re\", \" \\'re\", string)\n",
    "    string = re.sub(r\"\\'d\", \" \\'d\", string)\n",
    "    string = re.sub(r\"\\'ll\", \" \\'ll\", string)\n",
    "    string = re.sub(r\",\", \" , \", string)\n",
    "    string = re.sub(r\"!\", \" ! \", string)\n",
    "    string = re.sub(r\"\\(\", \" \\( \", string)\n",
    "    string = re.sub(r\"\\)\", \" \\) \", string)\n",
    "    string = re.sub(r\"\\?\", \" \\? \", string)\n",
    "    string = re.sub(r\"\\s{2,}\", \" \", string)\n",
    "    string = re.sub(r\"\\'{2,}\", \"\\'\", string)\n",
    "    string = re.sub(r\"\\'\", \"\", string)\n",
    "\n",
    "    return string.lower()\n",
    "\n",
    "train_text_X = [row.split('\\t')[1] for row in train_text.split('\\n')[1:] if row.count('\\t') > 0]\n",
    "train_text_X = [clean_str(sentence) for sentence in train_text_X]\n",
    "\n",
    "sentences = [sentence.split(' ') for sentence in train_text_X]\n",
    "for i in range(5):\n",
    "    print(sentences[i])"
   ]
  },
  {
   "cell_type": "code",
   "execution_count": 27,
   "id": "56459419-e9d8-4d97-964e-c60ff8376b49",
   "metadata": {},
   "outputs": [
    {
     "data": {
      "image/png": "[encoded data removed]",
      "text/plain": [
       "<Figure size 432x288 with 1 Axes>"
      ]
     },
     "metadata": {
      "needs_background": "light"
     },
     "output_type": "display_data"
    },
    {
     "name": "stdout",
     "output_type": "stream",
     "text": [
      "142587\n"
     ]
    }
   ],
   "source": [
    "import matplotlib.pyplot as plt\n",
    "sentence_len = [len(sentence) for sentence in sentences]\n",
    "sentence_len.sort()\n",
    "plt.plot(sentence_len)\n",
    "plt.show()\n",
    "\n",
    "print(sum([int(l<=25) for l in sentence_len]))"
   ]
  },
  {
   "cell_type": "code",
   "execution_count": 28,
   "id": "0e517166-9628-4039-bc78-04f49ecdc313",
   "metadata": {},
   "outputs": [
    {
     "name": "stdout",
     "output_type": "stream",
     "text": [
      "['아', '더빙', '진짜', '짜증나네요', '목소리']\n",
      "['흠', '포스터보고', '초딩영화줄', '오버연기조', '가볍지', '않구나']\n",
      "['너무재밓었']\n",
      "['교도소', '이야기구먼', '솔직히', '재미는', '없다', '평점', '조정']\n",
      "['사이몬페그', '익살스런', '연기가', '돋보였던', '영화', '!', '스파이더맨', '늙어보이기', '했던', '커스틴', '던스트가', '너무나도', '이뻐보였다']\n"
     ]
    }
   ],
   "source": [
    "sentences_new = []\n",
    "for sentence in sentences:\n",
    "    sentences_new.append([word[:5] for word in sentence][:25])\n",
    "sentences = sentences_new\n",
    "for i in range(5):\n",
    "    print(sentences[i])"
   ]
  },
  {
   "cell_type": "code",
   "execution_count": 31,
   "id": "b406cd7e-fd6d-4de6-aa50-769c26769f57",
   "metadata": {},
   "outputs": [
    {
     "name": "stdout",
     "output_type": "stream",
     "text": [
      "[[   25   884     8  5795  1111     0     0     0     0     0     0     0\n",
      "      0     0     0     0     0     0     0     0     0     0     0     0\n",
      "      0]\n",
      " [  588  5796  6697     0     0     0     0     0     0     0     0     0\n",
      "      0     0     0     0     0     0     0     0     0     0     0     0\n",
      "      0]\n",
      " [    0     0     0     0     0     0     0     0     0     0     0     0\n",
      "      0     0     0     0     0     0     0     0     0     0     0     0\n",
      "      0]\n",
      " [   71   346    31    35 10468     0     0     0     0     0     0     0\n",
      "      0     0     0     0     0     0     0     0     0     0     0     0\n",
      "      0]\n",
      " [  106  5338     4     2  2169   869   573     0     0     0     0     0\n",
      "      0     0     0     0     0     0     0     0     0     0     0     0\n",
      "      0]]\n"
     ]
    }
   ],
   "source": [
    "from tensorflow.keras.preprocessing.text import Tokenizer\n",
    "from tensorflow.keras.preprocessing.sequence import pad_sequences\n",
    "\n",
    "tokenizer = Tokenizer(num_words=20000)\n",
    "tokenizer.fit_on_texts(sentences)\n",
    "train_X = tokenizer.texts_to_sequences(sentences)\n",
    "train_X = pad_sequences(train_X, padding='post')\n",
    "\n",
    "print(train_X[:5])"
   ]
  },
  {
   "cell_type": "code",
   "execution_count": 32,
   "id": "5e8f95ad-29dd-473a-a1b7-a29df9db5e66",
   "metadata": {},
   "outputs": [
    {
     "name": "stdout",
     "output_type": "stream",
     "text": [
      "Model: \"sequential_2\"\n",
      "_________________________________________________________________\n",
      "Layer (type)                 Output Shape              Param #   \n",
      "=================================================================\n",
      "embedding (Embedding)        (None, 25, 300)           6000000   \n",
      "_________________________________________________________________\n",
      "lstm_2 (LSTM)                (None, 50)                70200     \n",
      "_________________________________________________________________\n",
      "dense_2 (Dense)              (None, 2)                 102       \n",
      "=================================================================\n",
      "Total params: 6,070,302\n",
      "Trainable params: 6,070,302\n",
      "Non-trainable params: 0\n",
      "_________________________________________________________________\n"
     ]
    }
   ],
   "source": [
    "model = tf.keras.Sequential([\n",
    "    tf.keras.layers.Embedding(20000, 300, input_length=25),\n",
    "    tf.keras.layers.LSTM(units=50),\n",
    "    tf.keras.layers.Dense(2, activation='softmax')\n",
    "])\n",
    "\n",
    "model.compile(optimizer='adam', loss='sparse_categorical_crossentropy', metrics=['accuracy'])\n",
    "model.summary()"
   ]
  },
  {
   "cell_type": "code",
   "execution_count": 33,
   "id": "542c61df-cbe2-439c-a3a7-c8a6b684591e",
   "metadata": {},
   "outputs": [
    {
     "name": "stdout",
     "output_type": "stream",
     "text": [
      "Epoch 1/5\n",
      "938/938 [==============================] - 8s 8ms/step - loss: 0.4365 - accuracy: 0.7825 - val_loss: 0.3790 - val_accuracy: 0.8229\n",
      "Epoch 2/5\n",
      "938/938 [==============================] - 7s 7ms/step - loss: 0.3249 - accuracy: 0.8470 - val_loss: 0.3878 - val_accuracy: 0.8185\n",
      "Epoch 3/5\n",
      "938/938 [==============================] - 7s 7ms/step - loss: 0.2708 - accuracy: 0.8690 - val_loss: 0.4201 - val_accuracy: 0.8180\n",
      "Epoch 4/5\n",
      "938/938 [==============================] - 7s 7ms/step - loss: 0.2268 - accuracy: 0.8895 - val_loss: 0.4752 - val_accuracy: 0.8148\n",
      "Epoch 5/5\n",
      "938/938 [==============================] - 7s 7ms/step - loss: 0.1896 - accuracy: 0.9069 - val_loss: 0.5461 - val_accuracy: 0.8111\n"
     ]
    }
   ],
   "source": [
    "history = model.fit(train_X, train_Y, epochs=5, batch_size=128, validation_split=0.2)"
   ]
  },
  {
   "cell_type": "code",
   "execution_count": 36,
   "id": "7e26fac8-c4c2-4508-b5fb-13a40ce50eec",
   "metadata": {},
   "outputs": [
    {
     "data": {
      "image/png": "[encoded data removed]",
      "text/plain": [
       "<Figure size 864x288 with 2 Axes>"
      ]
     },
     "metadata": {
      "needs_background": "light"
     },
     "output_type": "display_data"
    }
   ],
   "source": [
    "import matplotlib.pyplot as plt\n",
    "plt.figure(figsize=(12, 4))\n",
    "\n",
    "plt.subplot(1, 2, 1)\n",
    "plt.plot(history.history['loss'], 'b-', label='loss')\n",
    "plt.plot(history.history['val_loss'], 'r--', label='val_loss')\n",
    "plt.xlabel('Epoch')\n",
    "plt.legend()\n",
    "\n",
    "plt.subplot(1, 2, 2)\n",
    "plt.plot(history.history['accuracy'], 'g-', label='accuracy')\n",
    "plt.plot(history.history['val_accuracy'], 'k--', label='val_accuracy')\n",
    "plt.xlabel('Epoch')\n",
    "plt.ylim(0.7, 1)\n",
    "plt.legend()\n",
    "\n",
    "plt.show()"
   ]
  },
  {
   "cell_type": "code",
   "execution_count": 37,
   "id": "ac28a8a4-6767-4460-b2eb-00d236082609",
   "metadata": {},
   "outputs": [
    {
     "data": {
      "text/plain": [
       "[0.5657506585121155, 0.801360011100769]"
      ]
     },
     "execution_count": 37,
     "metadata": {},
     "output_type": "execute_result"
    }
   ],
   "source": [
    "test_text_X = [row.split('\\t')[1] for row in test_text.split('\\n')[1:] if row.count('\\t') > 0]\n",
    "test_text_X = [clean_str(sentence) for sentence in test_text_X]\n",
    "sentences = [sentence.split(' ') for sentence in test_text_X]\n",
    "sentences_new = []\n",
    "for sentence in sentences:\n",
    "    sentences_new.append([word[:5] for word in sentence][:25])\n",
    "sentences = sentences_new\n",
    "\n",
    "test_X = tokenizer.texts_to_sequences(sentences)\n",
    "test_X = pad_sequences(test_X, padding='post')\n",
    "\n",
    "model.evaluate(test_X, test_Y, verbose=0)"
   ]
  },
  {
   "cell_type": "code",
   "execution_count": 38,
   "id": "332244e1-1519-4462-89d7-3ace71cb4e29",
   "metadata": {},
   "outputs": [
    {
     "name": "stdout",
     "output_type": "stream",
     "text": [
      "['재미있을']\n",
      "[0.56276757 0.43723238]\n",
      "['재미있을', '줄']\n",
      "[0.52503574 0.47496432]\n",
      "['재미있을', '줄', '알았는데']\n",
      "[0.50102687 0.4989731 ]\n",
      "['재미있을', '줄', '알았는데', '완전']\n",
      "[0.61140907 0.388591  ]\n",
      "['재미있을', '줄', '알았는데', '완전', '실망했다.']\n",
      "[0.61140907 0.388591  ]\n",
      "['재미있을', '줄', '알았는데', '완전', '실망했다.', '너무']\n",
      "[0.70096964 0.29903036]\n",
      "['재미있을', '줄', '알았는데', '완전', '실망했다.', '너무', '졸리고']\n",
      "[0.9799427  0.02005735]\n",
      "['재미있을', '줄', '알았는데', '완전', '실망했다.', '너무', '졸리고', '돈이']\n",
      "[0.99790716 0.00209286]\n",
      "['재미있을', '줄', '알았는데', '완전', '실망했다.', '너무', '졸리고', '돈이', '아까웠다.']\n",
      "[0.99790716 0.00209286]\n"
     ]
    }
   ],
   "source": [
    "test_sentence = '재미있을 줄 알았는데 완전 실망했다. 너무 졸리고 돈이 아까웠다.'\n",
    "test_sentence = test_sentence.split(' ')\n",
    "test_sentences = []\n",
    "now_sentence = []\n",
    "for word in test_sentence:\n",
    "    now_sentence.append(word)\n",
    "    test_sentences.append(now_sentence[:])\n",
    "    \n",
    "test_X_1 = tokenizer.texts_to_sequences(test_sentences)\n",
    "test_X_1 = pad_sequences(test_X_1, padding='post', maxlen=25)\n",
    "prediction = model.predict(test_X_1)\n",
    "for idx, sentence in enumerate(test_sentences):\n",
    "    print(sentence)\n",
    "    print(prediction[idx])"
   ]
  },
  {
   "cell_type": "markdown",
   "id": "8fef31ed-b7aa-4ce8-902b-7f15c0d8ce12",
   "metadata": {},
   "source": [
    "# 자연어 생성"
   ]
  },
  {
   "cell_type": "code",
   "execution_count": 39,
   "id": "133fe6e9-f471-4b85-9422-17e036166329",
   "metadata": {},
   "outputs": [
    {
     "name": "stdout",
     "output_type": "stream",
     "text": [
      "Downloading data from http://bit.ly/2Mc3SOV\n",
      "62013440/62012502 [==============================] - 2s 0us/step\n",
      "62021632/62012502 [==============================] - 2s 0us/step\n"
     ]
    }
   ],
   "source": [
    "path_to_file = tf.keras.utils.get_file('C:\\ykio\\Study_TF\\Ch7_RNN\\\\data\\\\input.txt', 'http://bit.ly/2Mc3SOV')"
   ]
  },
  {
   "cell_type": "code",
   "execution_count": 40,
   "id": "8efc63a8-a078-4c66-a6de-8df5da4a145d",
   "metadata": {},
   "outputs": [
    {
     "name": "stdout",
     "output_type": "stream",
     "text": [
      "Length of text: 26265493 characters\n",
      "\n",
      "﻿태조 이성계 선대의 가계. 목조 이안사가 전주에서 삼척·의주를 거쳐 알동에 정착하다 \n",
      "태조 강헌 지인 계운 성문 신무 대왕(太祖康獻至仁啓運聖文神武大王)의 성은 이씨(李氏)요, 휘\n"
     ]
    }
   ],
   "source": [
    "train_text = open(path_to_file, 'rb').read().decode(encoding='utf-8')\n",
    "\n",
    "print('Length of text: {} characters'.format(len(train_text)))\n",
    "print()\n",
    "\n",
    "print(train_text[:100])"
   ]
  },
  {
   "cell_type": "code",
   "execution_count": 41,
   "id": "08a7d80e-3161-4962-b6bf-f03b01a3a71d",
   "metadata": {},
   "outputs": [
    {
     "name": "stdout",
     "output_type": "stream",
     "text": [
      "['태조', '이성계', '선대의', '가계', '목조', '이안사가', '전주에서', '삼척', '의주를', '거쳐', '알동에', '정착하다', '\\n', '태조', '강헌', '지인', '계운', '성문', '신무', '대왕']\n"
     ]
    }
   ],
   "source": [
    "import re\n",
    "def clean_str(string):    \n",
    "    string = re.sub(r\"[^가-힣A-Za-z0-9(),!?\\'\\`]\", \" \", string)\n",
    "    string = re.sub(r\"\\'ll\", \" \\'ll\", string)\n",
    "    string = re.sub(r\",\", \" , \", string)\n",
    "    string = re.sub(r\"!\", \" ! \", string)\n",
    "    string = re.sub(r\"\\(\", \"\", string)\n",
    "    string = re.sub(r\"\\)\", \"\", string)\n",
    "    string = re.sub(r\"\\?\", \" \\? \", string)\n",
    "    string = re.sub(r\"\\s{2,}\", \" \", string)\n",
    "    string = re.sub(r\"\\'{2,}\", \"\\'\", string)\n",
    "    string = re.sub(r\"\\'\", \"\", string)\n",
    "\n",
    "    return string\n",
    "\n",
    "\n",
    "train_text = train_text.split('\\n')\n",
    "train_text = [clean_str(sentence) for sentence in train_text]\n",
    "train_text_X = []\n",
    "for sentence in train_text:\n",
    "    train_text_X.extend(sentence.split(' '))\n",
    "    train_text_X.append('\\n')\n",
    "    \n",
    "train_text_X = [word for word in train_text_X if word != '']\n",
    "\n",
    "print(train_text_X[:20])"
   ]
  },
  {
   "cell_type": "code",
   "execution_count": 42,
   "id": "3678549d-d624-4f59-924a-8d618936c1b4",
   "metadata": {},
   "outputs": [
    {
     "name": "stdout",
     "output_type": "stream",
     "text": [
      "332640 unique words\n",
      "{\n",
      "  '\\n':   0,\n",
      "  '!' :   1,\n",
      "  ',' :   2,\n",
      "  '000명으로':   3,\n",
      "  '001':   4,\n",
      "  '002':   5,\n",
      "  '003':   6,\n",
      "  '004':   7,\n",
      "  '005':   8,\n",
      "  '006':   9,\n",
      "  ...\n",
      "}\n",
      "index of UNK: 332639\n"
     ]
    }
   ],
   "source": [
    "vocab = sorted(set(train_text_X))\n",
    "vocab.append('UNK')\n",
    "print ('{} unique words'.format(len(vocab)))\n",
    "\n",
    "\n",
    "word2idx = {u:i for i, u in enumerate(vocab)}\n",
    "idx2word = np.array(vocab)\n",
    "\n",
    "text_as_int = np.array([word2idx[c] for c in train_text_X])\n",
    "\n",
    "\n",
    "print('{')\n",
    "for word,_ in zip(word2idx, range(10)):\n",
    "    print('  {:4s}: {:3d},'.format(repr(word), word2idx[word]))\n",
    "print('  ...\\n}')\n",
    "\n",
    "print('index of UNK: {}'.format(word2idx['UNK']))"
   ]
  },
  {
   "cell_type": "code",
   "execution_count": 43,
   "id": "ff7bc9cb-7752-4cbf-bc4c-8405d183ae05",
   "metadata": {},
   "outputs": [
    {
     "name": "stdout",
     "output_type": "stream",
     "text": [
      "['태조' '이성계' '선대의' '가계' '목조' '이안사가' '전주에서' '삼척' '의주를' '거쳐' '알동에' '정착하다'\n",
      " '\\n' '태조' '강헌' '지인' '계운' '성문' '신무' '대왕' '의' '성은' '이씨' '요' ',' '휘']\n",
      "[299305 229634 161443  17430 111029 230292 251081 155087 225462  29027\n",
      " 190295 256129      0 299305  25624 273553  36147 163996 180466  84413\n",
      " 224182 164549 230248 210912      2 330313]\n"
     ]
    }
   ],
   "source": [
    "seq_length = 25\n",
    "examples_per_epoch = len(text_as_int) // seq_length\n",
    "sentence_dataset = tf.data.Dataset.from_tensor_slices(text_as_int)\n",
    "\n",
    "sentence_dataset = sentence_dataset.batch(seq_length+1, drop_remainder=True)\n",
    "for item in sentence_dataset.take(1):\n",
    "    print(idx2word[item.numpy()])\n",
    "    print(item.numpy())"
   ]
  },
  {
   "cell_type": "code",
   "execution_count": 46,
   "id": "410f5a00-e80e-4632-8d79-caeb76810fb1",
   "metadata": {},
   "outputs": [
    {
     "name": "stdout",
     "output_type": "stream",
     "text": [
      "['태조' '이성계' '선대의' '가계' '목조' '이안사가' '전주에서' '삼척' '의주를' '거쳐' '알동에' '정착하다'\n",
      " '\\n' '태조' '강헌' '지인' '계운' '성문' '신무' '대왕' '의' '성은' '이씨' '요' ',']\n",
      "[299305 229634 161443  17430 111029 230292 251081 155087 225462  29027\n",
      " 190295 256129      0 299305  25624 273553  36147 163996 180466  84413\n",
      " 224182 164549 230248 210912      2]\n",
      "휘\n",
      "330313\n"
     ]
    }
   ],
   "source": [
    "def split_input_target(chunk):\n",
    "    return [chunk[:-1], chunk[-1]]\n",
    "\n",
    "train_dataset = sentence_dataset.map(split_input_target)\n",
    "for x,y in train_dataset.take(1):\n",
    "    print(idx2word[x.numpy()])\n",
    "    print(x.numpy())\n",
    "    print(idx2word[y.numpy()])\n",
    "    print(y.numpy())\n",
    "    \n",
    "BATCH_SIZE = 512\n",
    "steps_per_epoch = examples_per_epoch // BATCH_SIZE\n",
    "BUFFER_SIZE = 10000\n",
    "\n",
    "train_dataset = train_dataset.shuffle(BUFFER_SIZE).batch(BATCH_SIZE, drop_remainder=True)"
   ]
  },
  {
   "cell_type": "code",
   "execution_count": 47,
   "id": "ae26ebc0-adb8-4776-9803-f2dca326b82e",
   "metadata": {},
   "outputs": [
    {
     "name": "stdout",
     "output_type": "stream",
     "text": [
      "Model: \"sequential_3\"\n",
      "_________________________________________________________________\n",
      "Layer (type)                 Output Shape              Param #   \n",
      "=================================================================\n",
      "embedding_1 (Embedding)      (None, 25, 100)           33264000  \n",
      "_________________________________________________________________\n",
      "lstm_3 (LSTM)                (None, 25, 100)           80400     \n",
      "_________________________________________________________________\n",
      "dropout (Dropout)            (None, 25, 100)           0         \n",
      "_________________________________________________________________\n",
      "lstm_4 (LSTM)                (None, 100)               80400     \n",
      "_________________________________________________________________\n",
      "dense_3 (Dense)              (None, 332640)            33596640  \n",
      "=================================================================\n",
      "Total params: 67,021,440\n",
      "Trainable params: 67,021,440\n",
      "Non-trainable params: 0\n",
      "_________________________________________________________________\n"
     ]
    }
   ],
   "source": [
    "total_words = len(vocab)\n",
    "model = tf.keras.Sequential([\n",
    "    tf.keras.layers.Embedding(total_words, 100, input_length=seq_length),\n",
    "    tf.keras.layers.LSTM(units=100, return_sequences=True),\n",
    "    tf.keras.layers.Dropout(0.2),\n",
    "    tf.keras.layers.LSTM(units=100),\n",
    "    tf.keras.layers.Dense(total_words, activation='softmax')\n",
    "])\n",
    "\n",
    "model.compile(optimizer='adam', loss='sparse_categorical_crossentropy', metrics=['accuracy'])\n",
    "model.summary()"
   ]
  },
  {
   "cell_type": "code",
   "execution_count": 50,
   "id": "bd968841-0fea-4516-a8d8-0009d16ade78",
   "metadata": {},
   "outputs": [
    {
     "name": "stdout",
     "output_type": "stream",
     "text": [
      "Epoch 1/50\n",
      "533/533 [==============================] - 103s 192ms/step - loss: 8.3514 - accuracy: 0.0738 -\n",
      "\n",
      " 태조 이성계 선대의 가계 목조 이안사가 전주에서 삼척 의주를 거쳐 알동에 정착하다  , 그 그 그 그 그 그 그 그 그 그 그 그 그 그 그 그 그 그 그 그 그 그 그 , , , , , , , , , , 그 그 그 그 그 그 그 그 그 그 그 그 그 그 그 그 그 그 그 그 그 그 그 그 , , , , , , , , , , 그 그 그 그 그 그 그 그 그 그 그 그 그 그 그 그 그 그 그 그 그 그 그 그 , , , , , , , ,\n",
      "\n",
      "Epoch 2/50\n",
      "533/533 [==============================] - 102s 192ms/step - loss: 8.0617 - accuracy: 0.0807\n",
      "Epoch 3/50\n",
      "533/533 [==============================] - 102s 192ms/step - loss: 7.8102 - accuracy: 0.0886 59s - loss: 7.8713 - ETA:  - ETA: 14s - loss: 7.8383 - accuracy: - ETA: 12s - lo - ETA: 4s - loss: 7.822 - ETA: 2s - los\n",
      "Epoch 4/50\n",
      "533/533 [==============================] - 102s 191ms/step - loss: 7.5393 - accuracy: 0.1002\n",
      "Epoch 5/50\n",
      "533/533 [==============================] - 104s 194ms/step - loss: 7.2256 - accuracy: 0.1178 - loss: 7.2287 - ac - ETA: 0s - loss: 7.2256 - accuracy: 0.11\n",
      "Epoch 6/50\n",
      "533/533 [==============================] - 104s 194ms/step - loss: 6.9187 - accuracy: 0.135439s - loss: 7.0136 - ac - ETA: 36s - loss: 7. - ETA: 32s - loss: 6.99 -  - ETA: 1s - loss: 6.9\n",
      "\n",
      " 태조 이성계 선대의 가계 목조 이안사가 전주에서 삼척 의주를 거쳐 알동에 정착하다  것이 상왕이 계하기를 , \n",
      " 임금이 말하기를 , \n",
      " 임금이 말하기를 , \n",
      " 임금이 말하기를 , \n",
      " 임금이 말하기를 , \n",
      " 따랐다 말하기를 , 그대로 따랐다 계하기를 , 경연에 경연에 경연에 경연에 경연에 경연에 경연에 경연에 경연에 경연에 경연에 경연에 경연에 경연에 경연에 경연에 \n",
      " 하니 , 임금이 상왕이 그대로 따랐다 상왕이 계하기를 , \n",
      " 임금이 상왕이 상왕이 말하였다 \n",
      " 상왕이 계하기를 , \n",
      " 임금이 말하기를 , \n",
      " 상왕이 계하기를 , \n",
      " 상왕이 계하기를 , \n",
      " 경연에 경연에 경연에 경연에 경연에 경연에 경연에 경연에 경연에 경연에 경연에 경연에 경연에 경연에 경연에 경연에 \n",
      " 하니 , 임금이 상왕이 그대로 따랐다 상왕이\n",
      "\n",
      "Epoch 7/50\n",
      "533/533 [==============================] - 103s 194ms/step - loss: 6.6122 - accuracy: 0.152928s - loss: 6.6653 - accuracy: 0. - ETA: 28s - loss: 6.6614 - accurac  - ETA: 9s - loss: 6.6255 - accu\n",
      "Epoch 8/50\n",
      "533/533 [==============================] - 102s 191ms/step - loss: 6.3205 - accuracy: 0.169534s - loss: 6.3837  - ETA: 31s - loss: 6.368 - ETA: 27s - loss: 6 - ETA: 14s  - ETA: 0s - loss: 6.3225 - accuracy\n",
      "Epoch 9/50\n",
      "533/533 [==============================] - 102s 192ms/step - loss: 6.0175 - accuracy: 0.1879\n",
      "Epoch 10/50\n",
      "533/533 [==============================] - 102s 192ms/step - loss: 5.7192 - accuracy: 0.20705 - ETA: 46s - loss: 5.798 - ETA: 16s - loss: 5.7451 - accuracy:\n",
      "Epoch 11/50\n",
      "533/533 [==============================] - 102s 191ms/step - loss: 5.4249 - accuracy: 0.2267 - loss: 5.4404 - ac - ETA\n",
      "\n",
      " 태조 이성계 선대의 가계 목조 이안사가 전주에서 삼척 의주를 거쳐 알동에 정착하다  사람 사람 사람 고을에 쓰지 않은 것을 의하여 주고 , 모두 범한 것을 의하여 주고 , 그 사람이 모두 다 쓰지 않은 것 역시 높고 그친다 그러나 , 이미 아뢰기를 , \n",
      " 함길도 의 은혜를 쓰지 않는 자를 더 살게 하라 고 하니 , 그대로 따랐다 상참을 받다 \n",
      " 상참을 받고 , 윤대를 행하고 , 경연에 나아갔다 상참을 받다 \n",
      " 상참을 받았다 상참을 받았다 상참을 받다 \n",
      " 상참을 받았다 상참을 받다 \n",
      " 상참을 받았다 상참을 받다 \n",
      " 상참을 받았다 상참을 받다 \n",
      " 상참을 받았다 상참을 받다 \n",
      " 상참을 받고 , 상참을 받고 , 상참을 받고 , 함길도 부사 부사 로\n",
      "\n",
      "Epoch 12/50\n",
      "533/533 [==============================] - 102s 192ms/step - loss: 5.1335 - accuracy: 0.2467\n",
      "Epoch 13/50\n",
      "533/533 [==============================] - 102s 192ms/step - loss: 4.8437 - accuracy: 0.2680 - loss: 4.853 - ETA: 2s - los\n",
      "Epoch 14/50\n",
      "533/533 [==============================] - 102s 192ms/step - loss: 4.5591 - accuracy: 0.290742s - loss:  - ETA: 29s -  - ETA: 23s - loss: 4.5903 - a - ETA: 2 - ETA: 13s - loss - E - - ETA: 1s - loss: 4.5614 - \n",
      "Epoch 15/50\n",
      "533/533 [==============================] - 101s 190ms/step - loss: 4.2931 - accuracy: 0.314156s - loss: 4.3098 -  - ETA: 53s - loss: 4.3327 \n",
      "Epoch 16/50\n",
      "533/533 [==============================] - 101s 190ms/step - loss: 4.0337 - accuracy: 0.338348s - loss: 4.0902 - accuracy: 0.33 - ETA: 48s - loss: 4.0905 - accurac - ETA: 37s - loss: 4.0839 - accura - ETA: 36s - loss: - ETA\n",
      "\n",
      " 태조 이성계 선대의 가계 목조 이안사가 전주에서 삼척 의주를 거쳐 알동에 정착하다  는 수령을 버린 아니하고 할 것이니 , 항상 섬기는 곳에 주게 할 것입니다 다만 큰 자가 있으면 하는 것이 있으면 마침내 혹시 하삼도 을 가지고 모두 그 사람의 마음을 가지고 모두 다 보이는 것으로 더욱 이르지 바가 없고 진실로 적을 계달 하지 바가 없고 진실로 혹시 혹시 아뢰겠습니다 한다 고 하고 , 만약 그 경계는 여러 5백 잡아서 더욱 받아서 네 번 1이니 , 음악을 보이는 번 자리를 중문 밖에 설치하되 , 각기 네 번 자리를 동계 밖에 설치하되 , 각기 자리에 놓고 , 각기 네 번 자리를 동계 밖에 설치하되 , 각기 인도하여 동계 밖에 설치하되 , 나아가서 신위\n",
      "\n",
      "Epoch 17/50\n",
      "533/533 [==============================] - 101s 190ms/step - loss: 3.7781 - accuracy: 0.36311: - ETA: 1: - ETA: 1:00 - loss: 3.8243 - ac - ETA: 59s - loss: 3.8305 - accuracy: 0.35 -  - ETA: 0s - loss: 3.7791 - accuracy: \n",
      "Epoch 18/50\n",
      "533/533 [==============================] - 101s 190ms/step - loss: 3.5360 - accuracy: 0.3906\n",
      "Epoch 19/50\n",
      "533/533 [==============================] - 101s 190ms/step - loss: 3.3010 - accuracy: 0.419946s - los\n",
      "Epoch 20/50\n",
      "533/533 [==============================] - 101s 190ms/step - loss: 3.0779 - accuracy: 0.449437s - loss: 3.1612  - ETA: 33s - loss: 3 - ETA: 29s - loss: 3.1430 - accuracy: 0. - ETA: 19s - loss: 3.1187 - accura - ETA: 17 - ETA: 11s - loss: 3.0986 - accuracy: 0.44 - E - ETA: 6s - loss:\n",
      "Epoch 21/50\n",
      "533/533 [==============================] - 101s 190ms/step - loss: 2.8713 - accuracy: 0.481333s - loss: 2.94 - ETA: 29s - loss: 2.9370 - accura - ETA: 5s - loss: 2.879\n",
      "\n",
      " 태조 이성계 선대의 가계 목조 이안사가 전주에서 삼척 의주를 거쳐 알동에 정착하다  강곤 에게 와서 뜻을 뽑아 주었으니 을 거두어 이기지 못하여 있게 를 주고 , 모두 마음을 입고 것을 알지 않고 또한 모두 먼저 와서 나와서 스스로 자세히 알지 못하여 반드시 큰 마음을 뽑아 보니 , 무슨 설 을 더하여 감히 차마 영 을 돕고 스스로 들었기 바가 없었다 천도 과 김문기 과 내시부 과 4등이고 , 내성 과 4등이고 , 내성 과 4등이고 , 내성 과 인삼 2이니 , 군 과 2백 1필 을 1이니 , 진군 과 2백 생각하였습니다 \n",
      " 권남 , 전 과 군사는 동부승지 가 또한 특별히 정난 을 거주하는 신숙주 권남 , 일본국 한명회가 명나라 사람들은\n",
      "\n",
      "Epoch 22/50\n",
      "533/533 [==============================] - 101s 190ms/step - loss: 2.7287 - accuracy: 0.504052 - ETA: 37s - loss: 2.7805 - accur - ETA: 26s - loss: 2.7583 -\n",
      "Epoch 23/50\n",
      "533/533 [==============================] - 101s 190ms/step - loss: 2.5376 - accuracy: 0.534547s - loss: 2.6261 - accurac - ETA: 45s - loss:\n",
      "Epoch 24/50\n",
      "533/533 [==============================] - 101s 190ms/step - loss: 2.3076 - accuracy: 0.5748s - loss: 2.3075 - accuracy: 0.\n",
      "Epoch 25/50\n",
      "533/533 [==============================] - 101s 190ms/step - loss: 2.0903 - accuracy: 0.618748s - loss: 2.1941 - accuracy: 0.597 - ETA: 48s - loss: 2.1928 - ac - ETA: 45s - loss: 2.1 - ETA: 41s - loss: 2.1 - ETA: 37s - loss: 2.1508 - accuracy: 0. - ETA: 36s - loss: 2.1487 - accu - ETA: 34s - loss: 2.1424 - accurac - ETA: 32s - loss: - ETA: 18s - loss:  - ETA: 14s - loss: 2. -  - ETA: 1s - loss: 2.093\n",
      "Epoch 26/50\n",
      "533/533 [==============================] - 101s 190ms/step - loss: 1.9026 - accuracy: 0.6563\n",
      "\n",
      " 태조 이성계 선대의 가계 목조 이안사가 전주에서 삼척 의주를 거쳐 알동에 정착하다  아래에 상소문 \n",
      " 도감 를 죄를 땅에 대하여 있게 를 자는 같이 를 자는 하는 자는 를 1백 자는 , 또한 예 를 나누어 주소서 \n",
      " 하니 , 임금이 말하기를 , \n",
      " 하니 , 가만히 굳이 안치 하였으니 , 엎드려 가만히 말하였다 \n",
      " 하니 , 신이 말하였다 경 등이 가만히 일어날 때문이다 하였는데 , 엎드려 허락하지 때에 가만히 굳이 나가 궁중에 이르기를 , 엎드려 생각하옵건대 , 너의 사유를 따른 것에 있어서 마침내 이를 갖추어 엄하게 하고 , 또 다시 명령을 쓰는 것을 의하여 이를 앉아서 듣는 것을 어떠하겠습니까 \\? \n",
      " 하니 , 신이 말하였다 \n",
      " 대간 으로 머물러 두어 하나\n",
      "\n",
      "Epoch 27/50\n",
      "533/533 [==============================] - 101s 190ms/step - loss: 1.7275 - accuracy: 0.6926 -\n",
      "Epoch 28/50\n",
      "533/533 [==============================] - 101s 190ms/step - loss: 1.5637 - accuracy: 0.72761:12 - lo - ETA: 6s - loss: 1\n",
      "Epoch 29/50\n",
      "533/533 [==============================] - 101s 190ms/step - loss: 1.4108 - accuracy: 0.7580\n",
      "Epoch 30/50\n",
      "533/533 [==============================] - 101s 190ms/step - loss: 1.2725 - accuracy: 0.78771s - loss: 1.2\n",
      "Epoch 31/50\n",
      "533/533 [==============================] - 101s 190ms/step - loss: 1.1508 - accuracy: 0.811754s - loss: 1.1372 - accuracy:  - ETA: 53s - loss: 1.1377 - ac - ETA:  - ETA: 43s - loss: - ETA: 30s - los - ETA: 24s - loss: 1.1234 - accuracy: \n",
      "\n",
      " 태조 이성계 선대의 가계 목조 이안사가 전주에서 삼척 의주를 거쳐 알동에 정착하다  죄인 수군 부사 동안 흰 방물을 바치고 , 활 태수 상서 을 물건을 주었다 두 죄를 보내 주었다 대간의 관원은 받들어 제자리에 청하다 \n",
      " 예조에서 계하기를 , \n",
      " 양녕 대군 이하 김겸 은 제릉 로써 기록하기를 것인가 같습니다 전자에 영락 진술장을 불충 7인이 장전 을 보내 술과 사신을 보내다 \n",
      " 사헌부 에서 상서 을 보내 보내 제사를 흘리며 짓도록 하다 \n",
      " 예조에서 아뢰었다 \n",
      " 대사헌 에서 양녕 은 저화 는 율에 거둥하여 감사의 탄핵을 돌아왔다 망제에 돌아오다 \n",
      " 이조에서 문안하였다 행랑 수군 사렵 들어왔다 거둥을 등을 올렸는데 , 제주 때에 몹시 아뢰라고 하소서 \n",
      " 하니 , 임금이 말하였다 \n",
      " 정사를\n",
      "\n",
      "Epoch 32/50\n",
      "533/533 [==============================] - 101s 190ms/step - loss: 1.0354 - accuracy: 0.8337\n",
      "Epoch 33/50\n",
      "533/533 [==============================] - 101s 190ms/step - loss: 0.9289 - accuracy: 0.854759s - loss: 0.9063  - ETA: 56s  - ETA: 50s - loss: 0.9 - ETA: 45s - loss:  - ETA: 41s - loss: 0.9037 - ETA: 37s - los - E - ETA: 0s - loss: 0.9292 - accuracy: 0.\n",
      "Epoch 34/50\n",
      "533/533 [==============================] - 101s 190ms/step - loss: 0.8334 - accuracy: 0.87271:04 - loss: 0.8 - ETA: 1:02 - loss: 0.8049 - accuracy - ETA: 1:01 - loss: 0.8046 - accur - ETA: 1s - loss: 0.8336 - ac\n",
      "Epoch 35/50\n",
      "533/533 [==============================] - 101s 190ms/step - loss: 0.7545 - accuracy: 0.8855 - ETA: 41s - loss: 0.7276 - accuracy: 0.892 - ETA: 41s - loss: 0.7276 - accuracy - ETA: 40s - loss: 0.7273 - ETA: 36s - loss: 0.7247 - accuracy - ETA: 35s - loss: 0.7311 - \n",
      "Epoch 36/50\n",
      "533/533 [==============================] - 101s 190ms/step - loss: 0.6746 - accuracy: 0.900722s - loss: 0.6848 -  - ETA: 18s - loss: 0.6 - ETA: 14s - loss: 0.6833 - accuracy:  - ETA:\n",
      "\n",
      " 태조 이성계 선대의 가계 목조 이안사가 전주에서 삼척 의주를 거쳐 알동에 정착하다  3백 제도는 계 을 입고 서서 향을 받들어 올라 위 를 인도하여 자리에 서서 , 다음에 동계 는 자리를 속현 및 꿀 남쪽에 북쪽 수효 남쪽에 설치하되 앞에 갖추지 아니할 수 되고 , 태종 에 다섯 동안을 배나 2 , 인리 이남의 자제의 동안을 다소를 충실하게 하는데 , 통례문이 곡을 감사에게 아뢰기를 , \n",
      " 전하는 조계 대왕 관원은 문무 제도에 받들어 적당히 자리로 선다 봉전원은 행사 앞으로 갔을 하기를 , \n",
      " 윤대를 행하고 , 윤대를 행하였다 윤대를 행하였다 윤대를 행하다 \n",
      " 윤대를 행하고 윤대를 행하고 윤대를 행하고 윤대를 행하고 윤대를 행하고 집사자 2인이 조복 에서 내금위 야인 도체찰사 도체찰사 황수신\n",
      "\n",
      "Epoch 37/50\n",
      "533/533 [==============================] - 101s 190ms/step - loss: 0.6084 - accuracy: 0.911527s - loss: 0.6218 - ac - ETA: 25s - loss: 0.6214 -  - ETA: 22s - loss: 0.6211 - acc - ETA: 19s - loss: 0 - ETA: 15s - loss: 0.6194 - a - ETA: 6s - loss: 0.6141 - accuracy: 0.91 - ETA: 6s - loss: 0.613 - ETA: 4s - loss: 0 - ETA: 2s - loss: 0.6106 - accu - ETA: 1s - loss: 0.6095 - \n",
      "Epoch 38/50\n",
      "533/533 [==============================] - 102s 191ms/step - loss: 0.5528 - accuracy: 0.9210 - ETA: 52s - loss: 0.5339 - accuracy: - ETA: 51s - loss: 0. - ETA: 46s - loss: 0.5301 - accuracy - ETA: 4 - ETA: 2s - loss: 0.5561 - accuracy:  - ETA: 2s - loss: 0.555 - ETA: 0s - loss: 0.5532 - accuracy: \n",
      "Epoch 39/50\n",
      "533/533 [==============================] - 101s 190ms/step - loss: 0.4941 - accuracy: 0.929852s -  - ETA: 21s - loss: 0.5108 - accur - ETA: 18s - ETA: 12s - loss: 0.5052 - accuracy: - ETA: 11s - loss: 0.5043 - acc - ETA: 9s - ETA: 1s - loss: 0.4\n",
      "Epoch 40/50\n",
      "533/533 [==============================] - 101s 190ms/step - loss: 0.4422 - accuracy: 0.9393\n",
      "Epoch 41/50\n",
      "533/533 [==============================] - 101s 190ms/step - loss: 0.4038 - accuracy: 0.944122s - l - ETA: 16s  - ETA:  - ETA: 2s - los\n",
      "\n",
      " 태조 이성계 선대의 가계 목조 이안사가 전주에서 삼척 의주를 거쳐 알동에 정착하다  본궁 에 달리 하여 제사 후에 사자를 닫고 맞아 맞아 맞아 자리로 모시고 좌 밖의 신주를 열고 동남쪽에 정위 오른쪽에 절한다 북향하여 동향하여 꿇어앉아 받아서 내려와 자리에 나아가 내려와 자리에 나아가 말하기를 말하기를 말하기를 이르기를 이르기를 이르기를 손을 거듭 거듭 거듭 거듭 막고 여자의 절목 이면 남김없이 말하여 이를 검약 함길 다스려서 불가한 않고서 파하고 쌀을 다하여야 할 수 있는가 천도가 금하면 때는 최치운 들이 회보한 사무를 의거 그려서 우선 번독 하는데 , 의정부에서 큰일을 몰수하게 하라 \n",
      " 서현정 에서 왕세자의 의논에 계청 하였다 영의정 영의정 박종우 김종서 김종서 김종서 등이 전지하기를 , \n",
      " 아뢴 의논에 의주를 받았다 예빈시의 상피하는\n",
      "\n",
      "Epoch 42/50\n",
      "533/533 [==============================] - 101s 190ms/step - loss: 0.3646 - accuracy: 0.950415s - loss: 0.3752 - - ETA: 12s - loss: 0.3724 - accuracy: 0.94 - ETA: 12s - loss: 0.3720 - accuracy: 0.94 - ET - ETA: 2s -\n",
      "Epoch 43/50\n",
      "533/533 [==============================] - 102s 191ms/step - loss: 0.3339 - accuracy: 0.9551\n",
      "Epoch 44/50\n",
      "533/533 [==============================] - 101s 190ms/step - loss: 0.3010 - accuracy: 0.959444s - loss: 0.3254 - accuracy: 0. - - ETA: 26s - l - ETA: 21s -\n",
      "Epoch 45/50\n",
      "533/533 [==============================] - 101s 190ms/step - loss: 0.2738 - accuracy: 0.9635A: 1s - loss: 0.2742 - ac\n",
      "Epoch 46/50\n",
      "533/533 [==============================] - 101s 190ms/step - loss: 0.2454 - accuracy: 0.9679\n",
      "\n",
      " 태조 이성계 선대의 가계 목조 이안사가 전주에서 삼척 의주를 거쳐 알동에 정착하다  함 에 사용하여 결단하지 못해서 부역 에 자원에 해청 에 이르면 , 외방의 집 도 의 법을 중히 말로 시험해 감 하여 법에 붙여 보내는 번 자도 격례 에 이르렀고 , 이것을 일러서 일러서 주방 를 가지고 가지고 축판과 흩는 것이라면 어린이의 들과 곤궁 하였다가 사유 국학 김문기 섭육십 김자갱 김자갱 , 요 을 2백 것은 또한 또한 문 이조 이조 하였다 정인지 이조 집현전 김하 집현전 김하 우찬성 정인지 우의정 우의정 장령 평안도 최항 병조 판서 양성지 병조 판서 양성지 관복 등이 승지 권남 형조 판서 형조 판서 형조 판서 형조 판서 판서 판서 판서 박형 신석조 신석조 김하\n",
      "\n",
      "Epoch 47/50\n",
      "533/533 [==============================] - 101s 190ms/step - loss: 0.2237 - accuracy: 0.9712\n",
      "Epoch 48/50\n",
      "533/533 [==============================] - 101s 190ms/step - loss: 0.2008 - accuracy: 0.97431:18 - los - ETA: 1:07 - loss: 0.2337 - accuracy:  - ETA: 1:06 - loss: 0.2333 - - ETA: 1s - loss: 0.2009 - ac\n",
      "Epoch 49/50\n",
      "533/533 [==============================] - 101s 190ms/step - loss: 0.1862 - accuracy: 0.9761\n",
      "Epoch 50/50\n",
      "533/533 [==============================] - 102s 192ms/step - loss: 0.1695 - accuracy: 0.978822s - loss: 0.1747 -  - ETA: 19s - loss: 0.17 - ETA: 15s - loss: 0.172 - ETA: 12s  - ETA: 3s - ETA: 0s - loss: 0.1696 - accuracy: \n",
      "\n",
      " 태조 이성계 선대의 가계 목조 이안사가 전주에서 삼척 의주를 거쳐 알동에 정착하다  옛일을 좌천 사관 의 아우 혁파 을 선포 하는 물건을 와서 주게 하여 사사로이 당하여 주게 하는 자가 합하여 도로 중한 자를 합하여 길을 끊게 하여 제 금령을 임하여 임하여 임하여 달려 있더라도 진실로 먼 인구 에 전보 할 수 아닌 때를 만들 아니하고 경은 경은 왕비 441 이고 총명 골육을 인재 으로 길이 하지만 , 신은 경 이니 , 본도 이니 흠축 지중추원사 지중추원사 지중추원사 박원형 우부승지 이극감 우찬성 우찬성 우찬성 홍경손 무송군 무송군 것은 한 뒤에 각각 각각 관 을 남김없이 난 126 영원히 조선 214 천하의 쇄환 라고 1 흠준 였는데 \\? 홍응이 평천하 나 모든 사람의\n",
      "\n"
     ]
    }
   ],
   "source": [
    "from tensorflow.keras.preprocessing.sequence import pad_sequences\n",
    "\n",
    "def testmodel(epoch, logs):\n",
    "    if epoch % 5 != 0 and epoch != 49:\n",
    "        return\n",
    "    test_sentence = train_text[0]\n",
    "\n",
    "    next_words = 100\n",
    "    for _ in range(next_words):\n",
    "        test_text_X = test_sentence.split(' ')[-seq_length:]\n",
    "        test_text_X = np.array([word2idx[c] if c in word2idx else word2idx['UNK'] for c in test_text_X])\n",
    "        test_text_X = pad_sequences([test_text_X], maxlen=seq_length, padding='pre', value=word2idx['UNK'])\n",
    "\n",
    "        output_prob = model.predict(test_text_X)\n",
    "        output_idx = np.argmax(output_prob, axis=1)\n",
    "        test_sentence += ' ' + idx2word[output_idx[0]]\n",
    "    \n",
    "    print()\n",
    "    print(test_sentence)\n",
    "    print()\n",
    "\n",
    "testmodelcb = tf.keras.callbacks.LambdaCallback(on_epoch_end=testmodel)\n",
    "\n",
    "history = model.fit(train_dataset.repeat(), epochs=50, steps_per_epoch=steps_per_epoch, callbacks=[testmodelcb], verbose=1)"
   ]
  },
  {
   "cell_type": "code",
   "execution_count": 51,
   "id": "8e31789e-f69f-43e8-82af-5dc7ff12bde5",
   "metadata": {},
   "outputs": [
    {
     "name": "stdout",
     "output_type": "stream",
     "text": [
      "동헌에 나가 공무를 본 후 활 십오 순을 쏘았다 일본국에서 주머니 분격하여 힘쓸 에 은밀히 관등 하는데 하라 고 하므로 , 전자에 우리들은 이만주 전에는 여산 많아 이석정 4월로 3등 사목 가 하직하니 , 친정을 해당 사용을 정지하고 , 어가 가 국문 하였다 대신을 올리게 한다 만약 친히 아뢰기를 , \n",
      " 창하기를 , 전하는 몸을 바로 한다 만약 이를 가지고 알지 못하고 반드시 물을 것이니 , 어찌 먼저 물을 있지 않으니 , 만약 매 29일 경희전 수가 없다 \n",
      " 하였다 강맹경이 평안도 관찰사에게 유시하기를 , \n",
      " 호패 가 이미 먼저 대신하게 하여 능히 능히 능히 능히 복 을 많이 보이고 , 만일 도망하여 묻는 일을 더하여 논죄 하여 돌아와서\n"
     ]
    }
   ],
   "source": [
    "from tensorflow.keras.preprocessing.sequence import pad_sequences\n",
    "test_sentence = '동헌에 나가 공무를 본 후 활 십오 순을 쏘았다'\n",
    "\n",
    "next_words = 100\n",
    "for _ in range(next_words):\n",
    "    test_text_X = test_sentence.split(' ')[-seq_length:]\n",
    "    test_text_X = np.array([word2idx[c] if c in word2idx else word2idx['UNK'] for c in test_text_X])\n",
    "    test_text_X = pad_sequences([test_text_X], maxlen=seq_length, padding='pre', value=word2idx['UNK'])\n",
    "    \n",
    "    output_prob = model.predict(test_text_X)\n",
    "    output_idx = np.argmax(output_prob, axis=1)\n",
    "    test_sentence += ' ' + idx2word[output_idx[0]]\n",
    "\n",
    "print(test_sentence)"
   ]
  },
  {
   "cell_type": "code",
   "execution_count": null,
   "id": "f3788ec8-0b84-4501-a5b6-2ce81638c10a",
   "metadata": {},
   "outputs": [],
   "source": []
  }
 ],
 "metadata": {
  "kernelspec": {
   "display_name": "Python 3 (ipykernel)",
   "language": "python",
   "name": "python3"
  },
  "language_info": {
   "codemirror_mode": {
    "name": "ipython",
    "version": 3
   },
   "file_extension": ".py",
   "mimetype": "text/x-python",
   "name": "python",
   "nbconvert_exporter": "python",
   "pygments_lexer": "ipython3",
   "version": "3.8.8"
  }
 },
 "nbformat": 4,
 "nbformat_minor": 5
}
