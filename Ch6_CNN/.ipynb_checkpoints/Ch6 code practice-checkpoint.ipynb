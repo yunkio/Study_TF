{
 "cells": [
  {
   "cell_type": "code",
   "execution_count": 1,
   "id": "20e19ace-172b-4652-bb15-559c5b5d87fd",
   "metadata": {},
   "outputs": [],
   "source": [
    "from scipy.io import loadmat\n",
    "import numpy as np\n",
    "import tensorflow as tf\n",
    "import matplotlib.pyplot as plt\n",
    "from tensorflow.keras.preprocessing.image import ImageDataGenerator"
   ]
  },
  {
   "cell_type": "code",
   "execution_count": 2,
   "id": "15eddcd1-7410-4571-bd95-34969a96f2e9",
   "metadata": {},
   "outputs": [],
   "source": [
    "train_raw = loadmat('./data/train_32x32.mat')\n",
    "test_raw = loadmat('./data/test_32x32.mat')"
   ]
  },
  {
   "cell_type": "code",
   "execution_count": 3,
   "id": "20679216-4a7c-484b-a125-75a8febe1f0a",
   "metadata": {},
   "outputs": [],
   "source": [
    "train_images = np.array(train_raw['X'])\n",
    "test_images = np.array(test_raw['X'])\n",
    "\n",
    "train_labels = train_raw['y']\n",
    "test_labels = test_raw['y']"
   ]
  },
  {
   "cell_type": "code",
   "execution_count": 4,
   "id": "d8008e8a-4721-47bd-9de1-fd4832fa2574",
   "metadata": {},
   "outputs": [],
   "source": [
    "# train_labels[train_labels == 10] = 0\n",
    "# test_labels[test_labels == 10] = 0"
   ]
  },
  {
   "cell_type": "code",
   "execution_count": 5,
   "id": "440970aa-9652-436d-a011-2aed296b9eae",
   "metadata": {},
   "outputs": [],
   "source": [
    "train_labels = train_labels - 1\n",
    "test_labels = test_labels - 1"
   ]
  },
  {
   "cell_type": "code",
   "execution_count": 6,
   "id": "a165aebf-40b5-4d99-aee8-deac869b8123",
   "metadata": {},
   "outputs": [
    {
     "name": "stdout",
     "output_type": "stream",
     "text": [
      "(73257, 32, 32, 3)\n",
      "(26032, 32, 32, 3)\n"
     ]
    }
   ],
   "source": [
    "train_images = np.moveaxis(train_images, -1, 0)\n",
    "test_images = np.moveaxis(test_images, -1, 0)\n",
    "\n",
    "print(train_images.shape)\n",
    "print(test_images.shape)"
   ]
  },
  {
   "cell_type": "code",
   "execution_count": 7,
   "id": "2735faf4-d505-4e20-9933-5275ab43a0c4",
   "metadata": {},
   "outputs": [],
   "source": [
    "train_images = train_images.astype('float')\n",
    "test_images = test_images.astype('float')\n",
    "train_labels = train_labels.astype('int')\n",
    "test_labels = test_labels.astype('int')\n",
    "train_images /= 255.0\n",
    "test_images /= 255.0"
   ]
  },
  {
   "cell_type": "code",
   "execution_count": 8,
   "id": "0e44d3c8-e6cb-48cd-866e-736f7c41be33",
   "metadata": {},
   "outputs": [],
   "source": [
    "# tf.random.set_seed(126)\n",
    "\n",
    "# image_generator = ImageDataGenerator(\n",
    "#             rotation_range=10,\n",
    "#             zoom_range=0.10,\n",
    "#             shear_range=0.5,\n",
    "#             width_shift_range=0.10,\n",
    "#             height_shift_range=0.10,\n",
    "#             horizontal_flip=True,\n",
    "#             vertical_flip=False)\n",
    "\n",
    "# augment_size = 30000\n",
    "\n",
    "# randidx = np.random.randint(train_images.shape[0], size=augment_size)\n",
    "# x_augmented = train_images[randidx].copy()\n",
    "# y_augmented = train_labels[randidx].copy()\n",
    "# x_augmented = image_generator.flow(x_augmented, np.zeros(augment_size),\n",
    "#                                    batch_size=augment_size, shuffle=False).next()[0]\n",
    "\n",
    "# train_images = np.concatenate((train_images, x_augmented))\n",
    "# train_labels = np.concatenate((train_labels, y_augmented))"
   ]
  },
  {
   "cell_type": "code",
   "execution_count": 9,
   "id": "1f7b0b19-73e6-4b23-b052-1adeadf4fd8c",
   "metadata": {},
   "outputs": [
    {
     "name": "stdout",
     "output_type": "stream",
     "text": [
      "(73257, 32, 32, 3)\n",
      "(73257, 1)\n"
     ]
    }
   ],
   "source": [
    "print(train_images.shape)\n",
    "print(train_labels.shape)"
   ]
  },
  {
   "cell_type": "code",
   "execution_count": 10,
   "id": "2f1141f8-6020-4086-9a77-da49f89a816a",
   "metadata": {},
   "outputs": [],
   "source": [
    "model = tf.keras.Sequential([\n",
    "    tf.keras.layers.Conv2D(input_shape=(32, 32, 3), kernel_size=(3,3), filters=32, padding='same', activation='relu'),\n",
    "    tf.keras.layers.Conv2D(kernel_size=(3,3), filters=64, padding='same', activation='relu'),\n",
    "    tf.keras.layers.MaxPool2D(pool_size=(2,2)),\n",
    "    tf.keras.layers.Dropout(rate=0.5),\n",
    "    tf.keras.layers.Conv2D(kernel_size=(3,3), filters=128, padding='same', activation='relu'),\n",
    "    tf.keras.layers.Conv2D(kernel_size=(3,3), filters=256, padding='valid', activation='relu'),\n",
    "    tf.keras.layers.MaxPool2D(pool_size=(2,2)),\n",
    "    tf.keras.layers.Dropout(rate=0.5),\n",
    "    tf.keras.layers.Flatten(),\n",
    "    tf.keras.layers.Dense(units=512, activation='relu'),\n",
    "    tf.keras.layers.Dropout(rate=0.5),\n",
    "    tf.keras.layers.Dense(units=256, activation='relu'),\n",
    "    tf.keras.layers.Dropout(rate=0.5),\n",
    "    tf.keras.layers.Dense(units=10, activation='softmax')\n",
    "])\n",
    "\n",
    "model.compile(optimizer=tf.keras.optimizers.Adam(), \n",
    "              loss='sparse_categorical_crossentropy', \n",
    "              metrics=['accuracy'])\n"
   ]
  },
  {
   "cell_type": "code",
   "execution_count": null,
   "id": "f58d8298-6cdb-4641-874a-3ff68cf85032",
   "metadata": {},
   "outputs": [
    {
     "name": "stdout",
     "output_type": "stream",
     "text": [
      "Epoch 1/25\n",
      "1717/1717 [==============================] - 17s 9ms/step - loss: 1.7794 - accuracy: 0.3732 - val_loss: 0.6562 - val_accuracy: 0.7998\n",
      "Epoch 2/25\n",
      "1717/1717 [==============================] - 14s 8ms/step - loss: 0.7341 - accuracy: 0.7726 - val_loss: 0.4481 - val_accuracy: 0.8635\n",
      "Epoch 3/25\n",
      "1717/1717 [==============================] - 30s 17ms/step - loss: 0.5970 - accuracy: 0.8173 - val_loss: 0.3869 - val_accuracy: 0.8839\n",
      "Epoch 4/25\n",
      "1717/1717 [==============================] - 41s 24ms/step - loss: 0.5365 - accuracy: 0.8371 - val_loss: 0.3562 - val_accuracy: 0.8935\n",
      "Epoch 5/25\n",
      "1717/1717 [==============================] - 41s 24ms/step - loss: 0.5071 - accuracy: 0.8482 - val_loss: 0.3342 - val_accuracy: 0.9010\n",
      "Epoch 6/25\n",
      "1717/1717 [==============================] - 41s 24ms/step - loss: 0.4728 - accuracy: 0.8583 - val_loss: 0.3168 - val_accuracy: 0.9099\n",
      "Epoch 7/25\n",
      "1717/1717 [==============================] - 18s 11ms/step - loss: 0.4571 - accuracy: 0.8623 - val_loss: 0.3225 - val_accuracy: 0.9083\n",
      "Epoch 8/25\n",
      "1717/1717 [==============================] - 30s 18ms/step - loss: 0.4413 - accuracy: 0.8678 - val_loss: 0.2968 - val_accuracy: 0.9158\n",
      "Epoch 9/25\n",
      " 639/1717 [==========>...................] - ETA: 14s - loss: 0.4225 - accuracy: 0.8697"
     ]
    }
   ],
   "source": [
    "history = model.fit(train_images, train_labels, epochs=25, validation_split=0.25)"
   ]
  },
  {
   "cell_type": "code",
   "execution_count": null,
   "id": "f15c02b8-2cd3-4f4c-9687-9af529e79873",
   "metadata": {},
   "outputs": [],
   "source": [
    "plt.figure(figsize=(12, 4))\n",
    "\n",
    "plt.subplot(1, 2, 1)\n",
    "plt.plot(history.history['loss'], 'b-', label='loss')\n",
    "plt.plot(history.history['val_loss'], 'r--', label='val_loss')\n",
    "plt.xlabel('Epoch')\n",
    "plt.legend()\n",
    "\n",
    "plt.subplot(1, 2, 2)\n",
    "plt.plot(history.history['accuracy'], 'g-', label='accuracy')\n",
    "plt.plot(history.history['val_accuracy'], 'k--', label='val_accuracy')\n",
    "plt.xlabel('Epoch')\n",
    "plt.ylim(0.7, 1)\n",
    "plt.legend()\n",
    "\n",
    "plt.show()\n",
    "\n",
    "model.evaluate(test_images, test_labels, verbose=0)"
   ]
  },
  {
   "cell_type": "code",
   "execution_count": null,
   "id": "ba8401e9-1adf-436c-ae8e-4b38ddd16eeb",
   "metadata": {},
   "outputs": [],
   "source": []
  }
 ],
 "metadata": {
  "kernelspec": {
   "display_name": "Python 3 (ipykernel)",
   "language": "python",
   "name": "python3"
  },
  "language_info": {
   "codemirror_mode": {
    "name": "ipython",
    "version": 3
   },
   "file_extension": ".py",
   "mimetype": "text/x-python",
   "name": "python",
   "nbconvert_exporter": "python",
   "pygments_lexer": "ipython3",
   "version": "3.8.8"
  }
 },
 "nbformat": 4,
 "nbformat_minor": 5
}
